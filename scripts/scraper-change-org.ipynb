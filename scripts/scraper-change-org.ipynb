{
 "cells": [
  {
   "cell_type": "markdown",
   "id": "02b8440b-cb58-4912-93d3-223a71869239",
   "metadata": {},
   "source": [
    "# Browser Automation change.org"
   ]
  },
  {
   "cell_type": "code",
   "execution_count": 17,
   "id": "649a66ca-dee2-4958-899c-732a352dc2c2",
   "metadata": {},
   "outputs": [],
   "source": [
    "import os\n",
    "import random\n",
    "import time\n",
    "import asyncio\n",
    "\n",
    "from playwright.async_api import async_playwright, expect"
   ]
  },
  {
   "cell_type": "code",
   "execution_count": 19,
   "id": "c899edf5-d7fc-49c9-93ad-5909ff9a55a7",
   "metadata": {},
   "outputs": [],
   "source": [
    "os.makedirs('data/', exist_ok=True)"
   ]
  },
  {
   "cell_type": "markdown",
   "id": "b982a34f-6552-47a5-b554-01b994b6c7f3",
   "metadata": {},
   "source": [
    "### 1) open browser, visit change.org"
   ]
  },
  {
   "cell_type": "code",
   "execution_count": 20,
   "id": "ffd70d24-5d94-4bec-9dd9-876afe07a4b8",
   "metadata": {},
   "outputs": [],
   "source": [
    "user_agent = 'Mozilla/5.0 (Macintosh; Intel Mac OS X 10_15_7) AppleWebKit/537.36 (KHTML, like Gecko) Chrome/138.0.0.0 Safari/537.36'"
   ]
  },
  {
   "cell_type": "code",
   "execution_count": 43,
   "id": "a0038d63-20e8-490b-9398-3f0180cacc9b",
   "metadata": {},
   "outputs": [],
   "source": [
    "async def open_browser(headless=False, user_agent=user_agent):\n",
    "    \"\"\"\n",
    "    Starts the automated browser and opens a new window\n",
    "    \"\"\"\n",
    "    # Start playwright\n",
    "    playwright = await async_playwright().start()\n",
    "\n",
    "    # Open firefox browser, can use chromium (chrome) or others\n",
    "    browser = await playwright.chromium.launch(headless=headless)\n",
    "\n",
    "    # set a user agent\n",
    "    context = await browser.new_context(user_agent=user_agent)\n",
    "  \n",
    "    # Create a new browser window\n",
    "    page = await browser.new_page()\n",
    "\n",
    "    return browser, page"
   ]
  },
  {
   "cell_type": "code",
   "execution_count": 44,
   "id": "b0e6b912-83e7-4b07-9b21-4968493ac0d6",
   "metadata": {},
   "outputs": [],
   "source": [
    "driver, page = await open_browser()"
   ]
  },
  {
   "cell_type": "code",
   "execution_count": 45,
   "id": "93d65fcb-de6f-4a1a-b619-a58758451642",
   "metadata": {},
   "outputs": [
    {
     "data": {
      "text/plain": [
       "<Response url='https://www.change.org/' request=<Request url='https://www.change.org/' method='GET'>>"
      ]
     },
     "execution_count": 45,
     "metadata": {},
     "output_type": "execute_result"
    }
   ],
   "source": [
    "url = 'https://www.change.org/'\n",
    "await page.goto(url)"
   ]
  },
  {
   "cell_type": "code",
   "execution_count": 24,
   "id": "ac73240c-3a55-4e38-8029-168246361fac",
   "metadata": {},
   "outputs": [],
   "source": [
    "#not accept cookies\n",
    "cookies = page.locator('//button[@data-testid=\"cookie-wall-reject\"]')\n",
    "await cookies.click()"
   ]
  },
  {
   "cell_type": "markdown",
   "id": "371c421e-145c-4f8a-bbc6-66797600eb13",
   "metadata": {},
   "source": [
    "### 2) Search bar und look for results in Germany"
   ]
  },
  {
   "cell_type": "code",
   "execution_count": 25,
   "id": "afa3e025-5d46-4281-9f43-28b63d44cef6",
   "metadata": {},
   "outputs": [],
   "source": [
    "search = page.locator('//a[@data-qa=\"header-search-link\" and @aria-label=\"\"]')\n",
    "await search.click()"
   ]
  },
  {
   "cell_type": "code",
   "execution_count": 26,
   "id": "7abd6231-94c4-4322-ab6a-41451ce3c02a",
   "metadata": {},
   "outputs": [],
   "source": [
    "germany = page.locator('//button[@aria-disabled=\"false\"]//span[text() = \"In Ihrer Nähe\"]')\n",
    "await germany.click()"
   ]
  },
  {
   "cell_type": "markdown",
   "id": "3b3904e5-08e0-402a-9664-5bb1ff06e4e5",
   "metadata": {},
   "source": [
    "### 3) Save results"
   ]
  },
  {
   "cell_type": "code",
   "execution_count": 28,
   "id": "dfdc313b-fda1-44ff-ad4c-385862570bec",
   "metadata": {},
   "outputs": [],
   "source": [
    "source = await page.content()\n",
    "with open(f'data/petition_change_org.html', 'w') as f:\n",
    "    f.write(source)"
   ]
  },
  {
   "cell_type": "markdown",
   "id": "149b1b01-05e5-4208-ba8d-c6a0662e51d9",
   "metadata": {},
   "source": [
    "### 3) Go through the pages and save results "
   ]
  },
  {
   "cell_type": "code",
   "execution_count": 29,
   "id": "fdbcd3d5-9ce7-4e80-8832-a2ad1985eb52",
   "metadata": {},
   "outputs": [],
   "source": [
    "xpath_next = '//button[@aria-disabled=\"false\" and @aria-label=\"Next button\"]'"
   ]
  },
  {
   "cell_type": "code",
   "execution_count": 30,
   "id": "1726d90f-ae24-40fd-b6f3-359377ba4a8d",
   "metadata": {},
   "outputs": [],
   "source": [
    "next_button = page.locator(xpath_next)"
   ]
  },
  {
   "cell_type": "code",
   "execution_count": 31,
   "id": "1cca665a-740b-482b-9cd7-b5445b4474b1",
   "metadata": {},
   "outputs": [],
   "source": [
    "await expect(next_button).to_be_visible()"
   ]
  },
  {
   "cell_type": "code",
   "execution_count": 32,
   "id": "7c225419-3d5f-44ef-9db4-6ab23d36354f",
   "metadata": {},
   "outputs": [],
   "source": [
    "await next_button.click()"
   ]
  },
  {
   "cell_type": "code",
   "execution_count": 33,
   "id": "2ccd2463-f2c9-4398-aa6b-49b59989cfb9",
   "metadata": {},
   "outputs": [],
   "source": [
    "xpath_result = '//div[@aria-live=\"polite\"]'"
   ]
  },
  {
   "cell_type": "code",
   "execution_count": 34,
   "id": "df4e5234-a68c-4d5c-b2b8-6383e92abf6a",
   "metadata": {},
   "outputs": [],
   "source": [
    "i = 1\n",
    "collect = True\n",
    "\n",
    "while collect:\n",
    "    try:\n",
    "        await expect(page.locator(xpath_next)).to_be_visible(timeout=1000)\n",
    "        \n",
    "        next_button = page.locator(xpath_next)\n",
    "        await next_button.click()\n",
    "        \n",
    "        await page.locator(xpath_result).is_visible()\n",
    "        \n",
    "        source = await page.content()\n",
    "        with open(f'data/petition_change_org_{i}.html', 'w') as f:\n",
    "            f.write(source)\n",
    "        \n",
    "        i += 1\n",
    "        \n",
    "        await asyncio.sleep(2)\n",
    "    \n",
    "    except Exception as e:\n",
    "        collect = False\n",
    "        break"
   ]
  },
  {
   "cell_type": "code",
   "execution_count": 46,
   "id": "1f8ac227-79bb-4c40-aaed-213d3f973403",
   "metadata": {},
   "outputs": [],
   "source": [
    "next_button = page.locator(xpath_next)\n",
    "await next_button.click()"
   ]
  },
  {
   "cell_type": "code",
   "execution_count": 52,
   "id": "377a7f39-f343-48fe-858b-546047302f75",
   "metadata": {},
   "outputs": [],
   "source": [
    "source = await page.content()\n",
    "with open(f'data/petition_change_org_last.html', 'w') as f:\n",
    "    f.write(source)"
   ]
  },
  {
   "cell_type": "markdown",
   "id": "1c941bd3-8bae-4f97-bbdb-938afdbb63a0",
   "metadata": {},
   "source": [
    "### 4) Parse the content"
   ]
  },
  {
   "cell_type": "code",
   "execution_count": 118,
   "id": "a61cfd53-9d8d-4781-aec6-9b3bd53b1c02",
   "metadata": {},
   "outputs": [],
   "source": [
    "import glob\n",
    "import pandas as pd\n",
    "from bs4 import BeautifulSoup"
   ]
  },
  {
   "cell_type": "code",
   "execution_count": 134,
   "id": "2af2f73e-5f9e-44d7-96be-979c9de5955d",
   "metadata": {},
   "outputs": [
    {
     "data": {
      "text/plain": [
       "3368"
      ]
     },
     "execution_count": 134,
     "metadata": {},
     "output_type": "execute_result"
    }
   ],
   "source": [
    "files = glob.glob('data/trademark*.html')\n",
    "len(files)"
   ]
  },
  {
   "cell_type": "code",
   "execution_count": 135,
   "id": "d4f13709-86c0-4da5-a5ab-afc2091b0eb7",
   "metadata": {},
   "outputs": [],
   "source": [
    "xpath_petition = './/li[@class=\"ais-Hits-item w-full first:pt-0 pt-4 pb-4 md:pt-6 md:pb-6\"]'"
   ]
  },
  {
   "cell_type": "code",
   "execution_count": 136,
   "id": "b833187f-1479-49e0-a9c5-f8ce1c6c36c9",
   "metadata": {},
   "outputs": [],
   "source": [
    "xpath_title = '//span[@data-variant=\"heading\" and @data-size=\"small\"]'"
   ]
  },
  {
   "cell_type": "code",
   "execution_count": 137,
   "id": "fbb4b3f3-63f0-4fd9-9ba7-6e713686ff94",
   "metadata": {},
   "outputs": [],
   "source": [
    "xpath_description = './/div[@class=\"hidden md:block\"]//span[@data-variant=\"body\"]'"
   ]
  },
  {
   "cell_type": "code",
   "execution_count": 138,
   "id": "43a23828-4572-4e09-9f73-b266cadb7dbb",
   "metadata": {},
   "outputs": [],
   "source": [
    "xpath_date = './/p[contains(text(), \"Am\")]'"
   ]
  },
  {
   "cell_type": "code",
   "execution_count": 139,
   "id": "d6e3cac8-a4e9-46e9-b5db-914b88aa13f9",
   "metadata": {},
   "outputs": [],
   "source": [
    "xpath_place = '//p[contains(text(), \"Deutschland\")]'"
   ]
  },
  {
   "cell_type": "code",
   "execution_count": 141,
   "id": "5fe8b847-fb02-4745-a51b-41a44173e401",
   "metadata": {},
   "outputs": [],
   "source": [
    "for fn in files:\n",
    "    # read into a XML tree from a string\n",
    "    tree = html.fromstring(open(fn).read())\n",
    "    petitionen = tree.xpath(xpath_petition)"
   ]
  },
  {
   "cell_type": "code",
   "execution_count": 180,
   "id": "a999080c-b205-44fb-8b06-c056d5c4e3cf",
   "metadata": {},
   "outputs": [],
   "source": [
    "from lxml import html\n",
    "\n",
    "data = []\n",
    "\n",
    "for fn in files:\n",
    "\n",
    "    # XML-Baum aus einer Datei lesen\n",
    "    tree = html.fromstring(open(fn).read())\n",
    "\n",
    "    # Alle Petitionselemente finden\n",
    "    petitionen = tree.xpath(xpath_petition)  \n",
    "\n",
    "    for petition in petitionen:\n",
    "        # Titel extrahieren\n",
    "        title = petition.xpath('.//span[@data-variant=\"heading\" and @data-size=\"small\"]/text()')\n",
    "        title = title[0] if title else \"Kein Titel gefunden\"\n",
    "\n",
    "        # Beschreibung extrahieren\n",
    "        description = petition.xpath('.//div[@class=\"hidden md:block\"]//span[@data-variant=\"body\"]/text()')\n",
    "        description = description[0] if description else \"Keine Beschreibung gefunden\"\n",
    "\n",
    "        # Ort extrahieren\n",
    "        place = petition.xpath('.//p[contains(text(), \"Deutschland\")]/text()')\n",
    "        place = place[0] if place else \"Kein Ort gefunden\"\n",
    "\n",
    "        signatures = petition.xpath('.//div[contains(@class, \"text-typography-accent-primary\")]//span[contains(text(), \"Unterschriften\")]/text()')\n",
    "        signatures = signatures[0] if signatures else \"Keine Unterschriften gefunden\"\n",
    "\n",
    "        # Startdatum relativ zum aktuellen <li> extrahieren\n",
    "        start_date = petition.xpath('.//div[contains(@class, \"flex max-w-full\")]//span[contains(text(), \"gestartet\")]/text()')\n",
    "        start_date = start_date[0] if start_date else \"Kein Datum gefunden\"\n",
    "\n",
    "        # Daten sammeln\n",
    "        data.append({\n",
    "            \"title\": title,\n",
    "            \"description\": description,\n",
    "            \"place\": place,\n",
    "            \"signatures\": signatures,\n",
    "            \"start_date\": start_date\n",
    "        })"
   ]
  },
  {
   "cell_type": "code",
   "execution_count": 181,
   "id": "21cfd53a-51d0-4327-a0cb-409906805d78",
   "metadata": {},
   "outputs": [
    {
     "data": {
      "text/html": [
       "<div>\n",
       "<style scoped>\n",
       "    .dataframe tbody tr th:only-of-type {\n",
       "        vertical-align: middle;\n",
       "    }\n",
       "\n",
       "    .dataframe tbody tr th {\n",
       "        vertical-align: top;\n",
       "    }\n",
       "\n",
       "    .dataframe thead th {\n",
       "        text-align: right;\n",
       "    }\n",
       "</style>\n",
       "<table border=\"1\" class=\"dataframe\">\n",
       "  <thead>\n",
       "    <tr style=\"text-align: right;\">\n",
       "      <th></th>\n",
       "      <th>title</th>\n",
       "      <th>description</th>\n",
       "      <th>place</th>\n",
       "      <th>signatures</th>\n",
       "      <th>start_date</th>\n",
       "    </tr>\n",
       "  </thead>\n",
       "  <tbody>\n",
       "    <tr>\n",
       "      <th>0</th>\n",
       "      <td>Verbot von Platzrunden und Sonntagsflügen von ...</td>\n",
       "      <td>Ich wohne direkt neben einem kleinem Sportflug...</td>\n",
       "      <td>Deutschland</td>\n",
       "      <td>53 Unterschriften</td>\n",
       "      <td>Am 29. Juli 2022 gestartet</td>\n",
       "    </tr>\n",
       "    <tr>\n",
       "      <th>1</th>\n",
       "      <td>Komplettausbau/-umstrukturierung des ÖPNV für ...</td>\n",
       "      <td>Wir alle haben bestimmt schon den Fall erlebt,...</td>\n",
       "      <td>Deutschland</td>\n",
       "      <td>53 Unterschriften</td>\n",
       "      <td>Am 16. Mai 2022 gestartet</td>\n",
       "    </tr>\n",
       "    <tr>\n",
       "      <th>2</th>\n",
       "      <td>Unterstützt die zukunftsorientierte Entwicklun...</td>\n",
       "      <td>Vogelsberg im Aufbruch: Nachhaltigkeit und Mod...</td>\n",
       "      <td>Vogelsberg, Deutschland</td>\n",
       "      <td>53 Unterschriften</td>\n",
       "      <td>Am 12. Dezember 2024 gestartet</td>\n",
       "    </tr>\n",
       "    <tr>\n",
       "      <th>3</th>\n",
       "      <td>Senken Sie die Geschwindigkeitsüberschreitunge...</td>\n",
       "      <td>Als Anwohner des Kerspeweges und Vater von dre...</td>\n",
       "      <td>Kierspe, Deutschland</td>\n",
       "      <td>53 Unterschriften</td>\n",
       "      <td>Am 10. Dezember 2024 gestartet</td>\n",
       "    </tr>\n",
       "    <tr>\n",
       "      <th>4</th>\n",
       "      <td>Aufhebung des Böllerverbotes 2021/2022</td>\n",
       "      <td>Das Jahr 2021 war eine Katastrophe, welches wi...</td>\n",
       "      <td>Deutschland</td>\n",
       "      <td>53 Unterschriften</td>\n",
       "      <td>Am 2. Dezember 2021 gestartet</td>\n",
       "    </tr>\n",
       "    <tr>\n",
       "      <th>...</th>\n",
       "      <td>...</td>\n",
       "      <td>...</td>\n",
       "      <td>...</td>\n",
       "      <td>...</td>\n",
       "      <td>...</td>\n",
       "    </tr>\n",
       "    <tr>\n",
       "      <th>26938</th>\n",
       "      <td>Wir fordern den selben Coronaschutz für Kinder...</td>\n",
       "      <td>Seit über einem Jahr ist der Regierung bekannt...</td>\n",
       "      <td>Deutschland</td>\n",
       "      <td>113 Unterschriften</td>\n",
       "      <td>Am 23. Mai 2021 gestartet</td>\n",
       "    </tr>\n",
       "    <tr>\n",
       "      <th>26939</th>\n",
       "      <td>Aufhebung des Verbotes teils auf gehwegen zu p...</td>\n",
       "      <td>Seit neusten werden in Mannheim Zettel an Auto...</td>\n",
       "      <td>Deutschland</td>\n",
       "      <td>113 Unterschriften</td>\n",
       "      <td>Am 27. September 2021 gestartet</td>\n",
       "    </tr>\n",
       "    <tr>\n",
       "      <th>26940</th>\n",
       "      <td>Aufenthaltsbestimmungsrecht  für mein Sohn</td>\n",
       "      <td>Hallo meine Lieben ich kämpfe seit einiger Zei...</td>\n",
       "      <td>Deutschland</td>\n",
       "      <td>113 Unterschriften</td>\n",
       "      <td>Am 21. Januar 2019 gestartet</td>\n",
       "    </tr>\n",
       "    <tr>\n",
       "      <th>26941</th>\n",
       "      <td>Kinder-, Radfahrer- und Fußgängerfreundliche A...</td>\n",
       "      <td>Die Fußgängerfeindliche Ampel am Ostbahnhof ka...</td>\n",
       "      <td>Deutschland</td>\n",
       "      <td>113 Unterschriften</td>\n",
       "      <td>Am 9. März 2022 gestartet</td>\n",
       "    </tr>\n",
       "    <tr>\n",
       "      <th>26942</th>\n",
       "      <td>Ablehnung des geplanten Bauvorhabens „Agrovolt...</td>\n",
       "      <td>Nach Einsicht der veröffentlichten Pläne auf d...</td>\n",
       "      <td>Deutschland</td>\n",
       "      <td>113 Unterschriften</td>\n",
       "      <td>Am 26. Oktober 2022 gestartet</td>\n",
       "    </tr>\n",
       "  </tbody>\n",
       "</table>\n",
       "<p>26943 rows × 5 columns</p>\n",
       "</div>"
      ],
      "text/plain": [
       "                                                   title  \\\n",
       "0      Verbot von Platzrunden und Sonntagsflügen von ...   \n",
       "1      Komplettausbau/-umstrukturierung des ÖPNV für ...   \n",
       "2      Unterstützt die zukunftsorientierte Entwicklun...   \n",
       "3      Senken Sie die Geschwindigkeitsüberschreitunge...   \n",
       "4                 Aufhebung des Böllerverbotes 2021/2022   \n",
       "...                                                  ...   \n",
       "26938  Wir fordern den selben Coronaschutz für Kinder...   \n",
       "26939  Aufhebung des Verbotes teils auf gehwegen zu p...   \n",
       "26940         Aufenthaltsbestimmungsrecht  für mein Sohn   \n",
       "26941  Kinder-, Radfahrer- und Fußgängerfreundliche A...   \n",
       "26942  Ablehnung des geplanten Bauvorhabens „Agrovolt...   \n",
       "\n",
       "                                             description  \\\n",
       "0      Ich wohne direkt neben einem kleinem Sportflug...   \n",
       "1      Wir alle haben bestimmt schon den Fall erlebt,...   \n",
       "2      Vogelsberg im Aufbruch: Nachhaltigkeit und Mod...   \n",
       "3      Als Anwohner des Kerspeweges und Vater von dre...   \n",
       "4      Das Jahr 2021 war eine Katastrophe, welches wi...   \n",
       "...                                                  ...   \n",
       "26938  Seit über einem Jahr ist der Regierung bekannt...   \n",
       "26939  Seit neusten werden in Mannheim Zettel an Auto...   \n",
       "26940  Hallo meine Lieben ich kämpfe seit einiger Zei...   \n",
       "26941  Die Fußgängerfeindliche Ampel am Ostbahnhof ka...   \n",
       "26942  Nach Einsicht der veröffentlichten Pläne auf d...   \n",
       "\n",
       "                         place          signatures  \\\n",
       "0                  Deutschland   53 Unterschriften   \n",
       "1                  Deutschland   53 Unterschriften   \n",
       "2      Vogelsberg, Deutschland   53 Unterschriften   \n",
       "3         Kierspe, Deutschland   53 Unterschriften   \n",
       "4                  Deutschland   53 Unterschriften   \n",
       "...                        ...                 ...   \n",
       "26938              Deutschland  113 Unterschriften   \n",
       "26939              Deutschland  113 Unterschriften   \n",
       "26940              Deutschland  113 Unterschriften   \n",
       "26941              Deutschland  113 Unterschriften   \n",
       "26942              Deutschland  113 Unterschriften   \n",
       "\n",
       "                            start_date  \n",
       "0           Am 29. Juli 2022 gestartet  \n",
       "1            Am 16. Mai 2022 gestartet  \n",
       "2       Am 12. Dezember 2024 gestartet  \n",
       "3       Am 10. Dezember 2024 gestartet  \n",
       "4        Am 2. Dezember 2021 gestartet  \n",
       "...                                ...  \n",
       "26938        Am 23. Mai 2021 gestartet  \n",
       "26939  Am 27. September 2021 gestartet  \n",
       "26940     Am 21. Januar 2019 gestartet  \n",
       "26941        Am 9. März 2022 gestartet  \n",
       "26942    Am 26. Oktober 2022 gestartet  \n",
       "\n",
       "[26943 rows x 5 columns]"
      ]
     },
     "execution_count": 181,
     "metadata": {},
     "output_type": "execute_result"
    }
   ],
   "source": [
    "df = pd.DataFrame(data)\n",
    "df"
   ]
  },
  {
   "cell_type": "code",
   "execution_count": 182,
   "id": "181ad111-653f-41fa-baeb-aab72feb0210",
   "metadata": {},
   "outputs": [],
   "source": [
    "df.to_csv('petitionen.csv', index=False)"
   ]
  }
 ],
 "metadata": {
  "kernelspec": {
   "display_name": "Python 3 (ipykernel)",
   "language": "python",
   "name": "python3"
  },
  "language_info": {
   "codemirror_mode": {
    "name": "ipython",
    "version": 3
   },
   "file_extension": ".py",
   "mimetype": "text/x-python",
   "name": "python",
   "nbconvert_exporter": "python",
   "pygments_lexer": "ipython3",
   "version": "3.11.8"
  }
 },
 "nbformat": 4,
 "nbformat_minor": 5
}
