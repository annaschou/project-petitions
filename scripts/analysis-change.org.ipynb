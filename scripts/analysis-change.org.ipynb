{
 "cells": [
  {
   "cell_type": "markdown",
   "id": "2a867cf5-e41c-4c53-a377-6d77959cc9fb",
   "metadata": {},
   "source": [
    "## Analysis change.org"
   ]
  },
  {
   "cell_type": "code",
   "execution_count": 1,
   "id": "9aecfc1d-9ea8-4b5d-be5e-f9fd2afde397",
   "metadata": {},
   "outputs": [],
   "source": [
    "import pandas as pd\n",
    "from functools import reduce"
   ]
  },
  {
   "cell_type": "code",
   "execution_count": 2,
   "id": "7d59dc39-eb49-46df-b0c5-cb3917fd7809",
   "metadata": {},
   "outputs": [
    {
     "data": {
      "text/html": [
       "<div>\n",
       "<style scoped>\n",
       "    .dataframe tbody tr th:only-of-type {\n",
       "        vertical-align: middle;\n",
       "    }\n",
       "\n",
       "    .dataframe tbody tr th {\n",
       "        vertical-align: top;\n",
       "    }\n",
       "\n",
       "    .dataframe thead th {\n",
       "        text-align: right;\n",
       "    }\n",
       "</style>\n",
       "<table border=\"1\" class=\"dataframe\">\n",
       "  <thead>\n",
       "    <tr style=\"text-align: right;\">\n",
       "      <th></th>\n",
       "      <th>title</th>\n",
       "      <th>description</th>\n",
       "      <th>place</th>\n",
       "      <th>signatures</th>\n",
       "      <th>start_date</th>\n",
       "    </tr>\n",
       "  </thead>\n",
       "  <tbody>\n",
       "    <tr>\n",
       "      <th>0</th>\n",
       "      <td>Verbot von Platzrunden und Sonntagsflügen von ...</td>\n",
       "      <td>Ich wohne direkt neben einem kleinem Sportflug...</td>\n",
       "      <td>Deutschland</td>\n",
       "      <td>53 Unterschriften</td>\n",
       "      <td>Am 29. Juli 2022 gestartet</td>\n",
       "    </tr>\n",
       "    <tr>\n",
       "      <th>1</th>\n",
       "      <td>Komplettausbau/-umstrukturierung des ÖPNV für ...</td>\n",
       "      <td>Wir alle haben bestimmt schon den Fall erlebt,...</td>\n",
       "      <td>Deutschland</td>\n",
       "      <td>53 Unterschriften</td>\n",
       "      <td>Am 16. Mai 2022 gestartet</td>\n",
       "    </tr>\n",
       "    <tr>\n",
       "      <th>2</th>\n",
       "      <td>Unterstützt die zukunftsorientierte Entwicklun...</td>\n",
       "      <td>Vogelsberg im Aufbruch: Nachhaltigkeit und Mod...</td>\n",
       "      <td>Vogelsberg, Deutschland</td>\n",
       "      <td>53 Unterschriften</td>\n",
       "      <td>Am 12. Dezember 2024 gestartet</td>\n",
       "    </tr>\n",
       "    <tr>\n",
       "      <th>3</th>\n",
       "      <td>Senken Sie die Geschwindigkeitsüberschreitunge...</td>\n",
       "      <td>Als Anwohner des Kerspeweges und Vater von dre...</td>\n",
       "      <td>Kierspe, Deutschland</td>\n",
       "      <td>53 Unterschriften</td>\n",
       "      <td>Am 10. Dezember 2024 gestartet</td>\n",
       "    </tr>\n",
       "    <tr>\n",
       "      <th>4</th>\n",
       "      <td>Aufhebung des Böllerverbotes 2021/2022</td>\n",
       "      <td>Das Jahr 2021 war eine Katastrophe, welches wi...</td>\n",
       "      <td>Deutschland</td>\n",
       "      <td>53 Unterschriften</td>\n",
       "      <td>Am 2. Dezember 2021 gestartet</td>\n",
       "    </tr>\n",
       "    <tr>\n",
       "      <th>...</th>\n",
       "      <td>...</td>\n",
       "      <td>...</td>\n",
       "      <td>...</td>\n",
       "      <td>...</td>\n",
       "      <td>...</td>\n",
       "    </tr>\n",
       "    <tr>\n",
       "      <th>26938</th>\n",
       "      <td>Wir fordern den selben Coronaschutz für Kinder...</td>\n",
       "      <td>Seit über einem Jahr ist der Regierung bekannt...</td>\n",
       "      <td>Deutschland</td>\n",
       "      <td>113 Unterschriften</td>\n",
       "      <td>Am 23. Mai 2021 gestartet</td>\n",
       "    </tr>\n",
       "    <tr>\n",
       "      <th>26939</th>\n",
       "      <td>Aufhebung des Verbotes teils auf gehwegen zu p...</td>\n",
       "      <td>Seit neusten werden in Mannheim Zettel an Auto...</td>\n",
       "      <td>Deutschland</td>\n",
       "      <td>113 Unterschriften</td>\n",
       "      <td>Am 27. September 2021 gestartet</td>\n",
       "    </tr>\n",
       "    <tr>\n",
       "      <th>26940</th>\n",
       "      <td>Aufenthaltsbestimmungsrecht  für mein Sohn</td>\n",
       "      <td>Hallo meine Lieben ich kämpfe seit einiger Zei...</td>\n",
       "      <td>Deutschland</td>\n",
       "      <td>113 Unterschriften</td>\n",
       "      <td>Am 21. Januar 2019 gestartet</td>\n",
       "    </tr>\n",
       "    <tr>\n",
       "      <th>26941</th>\n",
       "      <td>Kinder-, Radfahrer- und Fußgängerfreundliche A...</td>\n",
       "      <td>Die Fußgängerfeindliche Ampel am Ostbahnhof ka...</td>\n",
       "      <td>Deutschland</td>\n",
       "      <td>113 Unterschriften</td>\n",
       "      <td>Am 9. März 2022 gestartet</td>\n",
       "    </tr>\n",
       "    <tr>\n",
       "      <th>26942</th>\n",
       "      <td>Ablehnung des geplanten Bauvorhabens „Agrovolt...</td>\n",
       "      <td>Nach Einsicht der veröffentlichten Pläne auf d...</td>\n",
       "      <td>Deutschland</td>\n",
       "      <td>113 Unterschriften</td>\n",
       "      <td>Am 26. Oktober 2022 gestartet</td>\n",
       "    </tr>\n",
       "  </tbody>\n",
       "</table>\n",
       "<p>26943 rows × 5 columns</p>\n",
       "</div>"
      ],
      "text/plain": [
       "                                                   title  \\\n",
       "0      Verbot von Platzrunden und Sonntagsflügen von ...   \n",
       "1      Komplettausbau/-umstrukturierung des ÖPNV für ...   \n",
       "2      Unterstützt die zukunftsorientierte Entwicklun...   \n",
       "3      Senken Sie die Geschwindigkeitsüberschreitunge...   \n",
       "4                 Aufhebung des Böllerverbotes 2021/2022   \n",
       "...                                                  ...   \n",
       "26938  Wir fordern den selben Coronaschutz für Kinder...   \n",
       "26939  Aufhebung des Verbotes teils auf gehwegen zu p...   \n",
       "26940         Aufenthaltsbestimmungsrecht  für mein Sohn   \n",
       "26941  Kinder-, Radfahrer- und Fußgängerfreundliche A...   \n",
       "26942  Ablehnung des geplanten Bauvorhabens „Agrovolt...   \n",
       "\n",
       "                                             description  \\\n",
       "0      Ich wohne direkt neben einem kleinem Sportflug...   \n",
       "1      Wir alle haben bestimmt schon den Fall erlebt,...   \n",
       "2      Vogelsberg im Aufbruch: Nachhaltigkeit und Mod...   \n",
       "3      Als Anwohner des Kerspeweges und Vater von dre...   \n",
       "4      Das Jahr 2021 war eine Katastrophe, welches wi...   \n",
       "...                                                  ...   \n",
       "26938  Seit über einem Jahr ist der Regierung bekannt...   \n",
       "26939  Seit neusten werden in Mannheim Zettel an Auto...   \n",
       "26940  Hallo meine Lieben ich kämpfe seit einiger Zei...   \n",
       "26941  Die Fußgängerfeindliche Ampel am Ostbahnhof ka...   \n",
       "26942  Nach Einsicht der veröffentlichten Pläne auf d...   \n",
       "\n",
       "                         place          signatures  \\\n",
       "0                  Deutschland   53 Unterschriften   \n",
       "1                  Deutschland   53 Unterschriften   \n",
       "2      Vogelsberg, Deutschland   53 Unterschriften   \n",
       "3         Kierspe, Deutschland   53 Unterschriften   \n",
       "4                  Deutschland   53 Unterschriften   \n",
       "...                        ...                 ...   \n",
       "26938              Deutschland  113 Unterschriften   \n",
       "26939              Deutschland  113 Unterschriften   \n",
       "26940              Deutschland  113 Unterschriften   \n",
       "26941              Deutschland  113 Unterschriften   \n",
       "26942              Deutschland  113 Unterschriften   \n",
       "\n",
       "                            start_date  \n",
       "0           Am 29. Juli 2022 gestartet  \n",
       "1            Am 16. Mai 2022 gestartet  \n",
       "2       Am 12. Dezember 2024 gestartet  \n",
       "3       Am 10. Dezember 2024 gestartet  \n",
       "4        Am 2. Dezember 2021 gestartet  \n",
       "...                                ...  \n",
       "26938        Am 23. Mai 2021 gestartet  \n",
       "26939  Am 27. September 2021 gestartet  \n",
       "26940     Am 21. Januar 2019 gestartet  \n",
       "26941        Am 9. März 2022 gestartet  \n",
       "26942    Am 26. Oktober 2022 gestartet  \n",
       "\n",
       "[26943 rows x 5 columns]"
      ]
     },
     "execution_count": 2,
     "metadata": {},
     "output_type": "execute_result"
    }
   ],
   "source": [
    "df = pd.read_csv('../data-processed/petitionen.csv')\n",
    "df"
   ]
  },
  {
   "cell_type": "code",
   "execution_count": 3,
   "id": "1f75281e-2018-4157-87c0-3c1510a42f75",
   "metadata": {},
   "outputs": [
    {
     "data": {
      "text/plain": [
       "(26943, 5)"
      ]
     },
     "execution_count": 3,
     "metadata": {},
     "output_type": "execute_result"
    }
   ],
   "source": [
    "df.shape"
   ]
  },
  {
   "cell_type": "code",
   "execution_count": 4,
   "id": "9cc3a308-8dcf-4b0f-8668-f8d09e6da869",
   "metadata": {},
   "outputs": [
    {
     "name": "stdout",
     "output_type": "stream",
     "text": [
      "<class 'pandas.core.frame.DataFrame'>\n",
      "RangeIndex: 26943 entries, 0 to 26942\n",
      "Data columns (total 5 columns):\n",
      " #   Column       Non-Null Count  Dtype \n",
      "---  ------       --------------  ----- \n",
      " 0   title        26943 non-null  object\n",
      " 1   description  26943 non-null  object\n",
      " 2   place        26943 non-null  object\n",
      " 3   signatures   26943 non-null  object\n",
      " 4   start_date   26943 non-null  object\n",
      "dtypes: object(5)\n",
      "memory usage: 1.0+ MB\n"
     ]
    }
   ],
   "source": [
    "df.info()"
   ]
  },
  {
   "cell_type": "markdown",
   "id": "505f0313-ffc1-4858-96c0-2396d042ab33",
   "metadata": {},
   "source": [
    "### Cleaning"
   ]
  },
  {
   "cell_type": "code",
   "execution_count": 5,
   "id": "e6de683c-35e9-4445-8437-71d26659e174",
   "metadata": {
    "scrolled": true
   },
   "outputs": [
    {
     "data": {
      "text/html": [
       "<div>\n",
       "<style scoped>\n",
       "    .dataframe tbody tr th:only-of-type {\n",
       "        vertical-align: middle;\n",
       "    }\n",
       "\n",
       "    .dataframe tbody tr th {\n",
       "        vertical-align: top;\n",
       "    }\n",
       "\n",
       "    .dataframe thead th {\n",
       "        text-align: right;\n",
       "    }\n",
       "</style>\n",
       "<table border=\"1\" class=\"dataframe\">\n",
       "  <thead>\n",
       "    <tr style=\"text-align: right;\">\n",
       "      <th></th>\n",
       "      <th>title</th>\n",
       "      <th>description</th>\n",
       "      <th>place</th>\n",
       "      <th>signatures</th>\n",
       "      <th>start_date</th>\n",
       "    </tr>\n",
       "  </thead>\n",
       "  <tbody>\n",
       "    <tr>\n",
       "      <th>0</th>\n",
       "      <td>Verbot von Platzrunden und Sonntagsflügen von ...</td>\n",
       "      <td>Ich wohne direkt neben einem kleinem Sportflug...</td>\n",
       "      <td>Deutschland</td>\n",
       "      <td>53 Unterschriften</td>\n",
       "      <td>Am 29. Juli 2022 gestartet</td>\n",
       "    </tr>\n",
       "    <tr>\n",
       "      <th>1</th>\n",
       "      <td>Komplettausbau/-umstrukturierung des ÖPNV für ...</td>\n",
       "      <td>Wir alle haben bestimmt schon den Fall erlebt,...</td>\n",
       "      <td>Deutschland</td>\n",
       "      <td>53 Unterschriften</td>\n",
       "      <td>Am 16. Mai 2022 gestartet</td>\n",
       "    </tr>\n",
       "    <tr>\n",
       "      <th>2</th>\n",
       "      <td>Unterstützt die zukunftsorientierte Entwicklun...</td>\n",
       "      <td>Vogelsberg im Aufbruch: Nachhaltigkeit und Mod...</td>\n",
       "      <td>Vogelsberg, Deutschland</td>\n",
       "      <td>53 Unterschriften</td>\n",
       "      <td>Am 12. Dezember 2024 gestartet</td>\n",
       "    </tr>\n",
       "    <tr>\n",
       "      <th>3</th>\n",
       "      <td>Senken Sie die Geschwindigkeitsüberschreitunge...</td>\n",
       "      <td>Als Anwohner des Kerspeweges und Vater von dre...</td>\n",
       "      <td>Kierspe, Deutschland</td>\n",
       "      <td>53 Unterschriften</td>\n",
       "      <td>Am 10. Dezember 2024 gestartet</td>\n",
       "    </tr>\n",
       "    <tr>\n",
       "      <th>4</th>\n",
       "      <td>Aufhebung des Böllerverbotes 2021/2022</td>\n",
       "      <td>Das Jahr 2021 war eine Katastrophe, welches wi...</td>\n",
       "      <td>Deutschland</td>\n",
       "      <td>53 Unterschriften</td>\n",
       "      <td>Am 2. Dezember 2021 gestartet</td>\n",
       "    </tr>\n",
       "    <tr>\n",
       "      <th>...</th>\n",
       "      <td>...</td>\n",
       "      <td>...</td>\n",
       "      <td>...</td>\n",
       "      <td>...</td>\n",
       "      <td>...</td>\n",
       "    </tr>\n",
       "    <tr>\n",
       "      <th>26938</th>\n",
       "      <td>Wir fordern den selben Coronaschutz für Kinder...</td>\n",
       "      <td>Seit über einem Jahr ist der Regierung bekannt...</td>\n",
       "      <td>Deutschland</td>\n",
       "      <td>113 Unterschriften</td>\n",
       "      <td>Am 23. Mai 2021 gestartet</td>\n",
       "    </tr>\n",
       "    <tr>\n",
       "      <th>26939</th>\n",
       "      <td>Aufhebung des Verbotes teils auf gehwegen zu p...</td>\n",
       "      <td>Seit neusten werden in Mannheim Zettel an Auto...</td>\n",
       "      <td>Deutschland</td>\n",
       "      <td>113 Unterschriften</td>\n",
       "      <td>Am 27. September 2021 gestartet</td>\n",
       "    </tr>\n",
       "    <tr>\n",
       "      <th>26940</th>\n",
       "      <td>Aufenthaltsbestimmungsrecht  für mein Sohn</td>\n",
       "      <td>Hallo meine Lieben ich kämpfe seit einiger Zei...</td>\n",
       "      <td>Deutschland</td>\n",
       "      <td>113 Unterschriften</td>\n",
       "      <td>Am 21. Januar 2019 gestartet</td>\n",
       "    </tr>\n",
       "    <tr>\n",
       "      <th>26941</th>\n",
       "      <td>Kinder-, Radfahrer- und Fußgängerfreundliche A...</td>\n",
       "      <td>Die Fußgängerfeindliche Ampel am Ostbahnhof ka...</td>\n",
       "      <td>Deutschland</td>\n",
       "      <td>113 Unterschriften</td>\n",
       "      <td>Am 9. März 2022 gestartet</td>\n",
       "    </tr>\n",
       "    <tr>\n",
       "      <th>26942</th>\n",
       "      <td>Ablehnung des geplanten Bauvorhabens „Agrovolt...</td>\n",
       "      <td>Nach Einsicht der veröffentlichten Pläne auf d...</td>\n",
       "      <td>Deutschland</td>\n",
       "      <td>113 Unterschriften</td>\n",
       "      <td>Am 26. Oktober 2022 gestartet</td>\n",
       "    </tr>\n",
       "  </tbody>\n",
       "</table>\n",
       "<p>26689 rows × 5 columns</p>\n",
       "</div>"
      ],
      "text/plain": [
       "                                                   title  \\\n",
       "0      Verbot von Platzrunden und Sonntagsflügen von ...   \n",
       "1      Komplettausbau/-umstrukturierung des ÖPNV für ...   \n",
       "2      Unterstützt die zukunftsorientierte Entwicklun...   \n",
       "3      Senken Sie die Geschwindigkeitsüberschreitunge...   \n",
       "4                 Aufhebung des Böllerverbotes 2021/2022   \n",
       "...                                                  ...   \n",
       "26938  Wir fordern den selben Coronaschutz für Kinder...   \n",
       "26939  Aufhebung des Verbotes teils auf gehwegen zu p...   \n",
       "26940         Aufenthaltsbestimmungsrecht  für mein Sohn   \n",
       "26941  Kinder-, Radfahrer- und Fußgängerfreundliche A...   \n",
       "26942  Ablehnung des geplanten Bauvorhabens „Agrovolt...   \n",
       "\n",
       "                                             description  \\\n",
       "0      Ich wohne direkt neben einem kleinem Sportflug...   \n",
       "1      Wir alle haben bestimmt schon den Fall erlebt,...   \n",
       "2      Vogelsberg im Aufbruch: Nachhaltigkeit und Mod...   \n",
       "3      Als Anwohner des Kerspeweges und Vater von dre...   \n",
       "4      Das Jahr 2021 war eine Katastrophe, welches wi...   \n",
       "...                                                  ...   \n",
       "26938  Seit über einem Jahr ist der Regierung bekannt...   \n",
       "26939  Seit neusten werden in Mannheim Zettel an Auto...   \n",
       "26940  Hallo meine Lieben ich kämpfe seit einiger Zei...   \n",
       "26941  Die Fußgängerfeindliche Ampel am Ostbahnhof ka...   \n",
       "26942  Nach Einsicht der veröffentlichten Pläne auf d...   \n",
       "\n",
       "                         place          signatures  \\\n",
       "0                  Deutschland   53 Unterschriften   \n",
       "1                  Deutschland   53 Unterschriften   \n",
       "2      Vogelsberg, Deutschland   53 Unterschriften   \n",
       "3         Kierspe, Deutschland   53 Unterschriften   \n",
       "4                  Deutschland   53 Unterschriften   \n",
       "...                        ...                 ...   \n",
       "26938              Deutschland  113 Unterschriften   \n",
       "26939              Deutschland  113 Unterschriften   \n",
       "26940              Deutschland  113 Unterschriften   \n",
       "26941              Deutschland  113 Unterschriften   \n",
       "26942              Deutschland  113 Unterschriften   \n",
       "\n",
       "                            start_date  \n",
       "0           Am 29. Juli 2022 gestartet  \n",
       "1            Am 16. Mai 2022 gestartet  \n",
       "2       Am 12. Dezember 2024 gestartet  \n",
       "3       Am 10. Dezember 2024 gestartet  \n",
       "4        Am 2. Dezember 2021 gestartet  \n",
       "...                                ...  \n",
       "26938        Am 23. Mai 2021 gestartet  \n",
       "26939  Am 27. September 2021 gestartet  \n",
       "26940     Am 21. Januar 2019 gestartet  \n",
       "26941        Am 9. März 2022 gestartet  \n",
       "26942    Am 26. Oktober 2022 gestartet  \n",
       "\n",
       "[26689 rows x 5 columns]"
      ]
     },
     "execution_count": 5,
     "metadata": {},
     "output_type": "execute_result"
    }
   ],
   "source": [
    "df = df.drop_duplicates(subset=['title'])\n",
    "df"
   ]
  },
  {
   "cell_type": "code",
   "execution_count": 6,
   "id": "e6f1d06c-0a2d-4473-8802-579392e89d05",
   "metadata": {
    "scrolled": true
   },
   "outputs": [
    {
     "name": "stderr",
     "output_type": "stream",
     "text": [
      "/var/folders/93/ffjltmpn7wb5fs3ksd8vx1xh0000gn/T/ipykernel_1222/1004852298.py:1: SettingWithCopyWarning: \n",
      "A value is trying to be set on a copy of a slice from a DataFrame.\n",
      "Try using .loc[row_indexer,col_indexer] = value instead\n",
      "\n",
      "See the caveats in the documentation: https://pandas.pydata.org/pandas-docs/stable/user_guide/indexing.html#returning-a-view-versus-a-copy\n",
      "  df['start_date'] = df['start_date'].str.extract(r\"([\\d]{4})\", expand=False)\n"
     ]
    }
   ],
   "source": [
    "df['start_date'] = df['start_date'].str.extract(r\"([\\d]{4})\", expand=False)"
   ]
  },
  {
   "cell_type": "code",
   "execution_count": 7,
   "id": "c0d6a900-b543-4a3b-ab1e-aa5c973daa60",
   "metadata": {},
   "outputs": [],
   "source": [
    "df = df[(df['start_date'] != \"2025\") & (df['start_date'] > \"2017\")]"
   ]
  },
  {
   "cell_type": "code",
   "execution_count": 8,
   "id": "197efaff-4f12-4ab4-9e75-1cca0ddaba9c",
   "metadata": {},
   "outputs": [],
   "source": [
    "df_place = df"
   ]
  },
  {
   "cell_type": "code",
   "execution_count": 9,
   "id": "28643d5b-2278-4a56-b413-4ccfc87c5ff6",
   "metadata": {},
   "outputs": [
    {
     "name": "stderr",
     "output_type": "stream",
     "text": [
      "/var/folders/93/ffjltmpn7wb5fs3ksd8vx1xh0000gn/T/ipykernel_1222/2063904194.py:1: SettingWithCopyWarning: \n",
      "A value is trying to be set on a copy of a slice from a DataFrame.\n",
      "Try using .loc[row_indexer,col_indexer] = value instead\n",
      "\n",
      "See the caveats in the documentation: https://pandas.pydata.org/pandas-docs/stable/user_guide/indexing.html#returning-a-view-versus-a-copy\n",
      "  df_place['place'] = df_place['place'].str.replace(\"Deutschland\", \"\")\n"
     ]
    }
   ],
   "source": [
    "df_place['place'] = df_place['place'].str.replace(\"Deutschland\", \"\")"
   ]
  },
  {
   "cell_type": "code",
   "execution_count": 10,
   "id": "ba088ec9-c476-41da-9400-ad7bdee5a712",
   "metadata": {},
   "outputs": [
    {
     "name": "stderr",
     "output_type": "stream",
     "text": [
      "/var/folders/93/ffjltmpn7wb5fs3ksd8vx1xh0000gn/T/ipykernel_1222/1570757810.py:1: SettingWithCopyWarning: \n",
      "A value is trying to be set on a copy of a slice from a DataFrame.\n",
      "Try using .loc[row_indexer,col_indexer] = value instead\n",
      "\n",
      "See the caveats in the documentation: https://pandas.pydata.org/pandas-docs/stable/user_guide/indexing.html#returning-a-view-versus-a-copy\n",
      "  df_place['place'] = df_place['place'].str.replace(\",\", \"\")\n"
     ]
    }
   ],
   "source": [
    "df_place['place'] = df_place['place'].str.replace(\",\", \"\")"
   ]
  },
  {
   "cell_type": "code",
   "execution_count": 11,
   "id": "f54940a7-1f84-4f84-a270-ed45a339068f",
   "metadata": {},
   "outputs": [
    {
     "name": "stderr",
     "output_type": "stream",
     "text": [
      "/var/folders/93/ffjltmpn7wb5fs3ksd8vx1xh0000gn/T/ipykernel_1222/3915490936.py:1: SettingWithCopyWarning: \n",
      "A value is trying to be set on a copy of a slice from a DataFrame.\n",
      "Try using .loc[row_indexer,col_indexer] = value instead\n",
      "\n",
      "See the caveats in the documentation: https://pandas.pydata.org/pandas-docs/stable/user_guide/indexing.html#returning-a-view-versus-a-copy\n",
      "  df['signatures'] = df['signatures'].str.replace(\".\", \"\")\n"
     ]
    }
   ],
   "source": [
    "df['signatures'] = df['signatures'].str.replace(\".\", \"\")"
   ]
  },
  {
   "cell_type": "code",
   "execution_count": 12,
   "id": "589c51b1-8637-4ad4-869c-81ea807a7e8d",
   "metadata": {},
   "outputs": [
    {
     "name": "stderr",
     "output_type": "stream",
     "text": [
      "/var/folders/93/ffjltmpn7wb5fs3ksd8vx1xh0000gn/T/ipykernel_1222/1438253519.py:1: SettingWithCopyWarning: \n",
      "A value is trying to be set on a copy of a slice from a DataFrame.\n",
      "Try using .loc[row_indexer,col_indexer] = value instead\n",
      "\n",
      "See the caveats in the documentation: https://pandas.pydata.org/pandas-docs/stable/user_guide/indexing.html#returning-a-view-versus-a-copy\n",
      "  df['signatures'] = df['signatures'].str.extract(r\"([\\d]+)\", expand=False)\n"
     ]
    }
   ],
   "source": [
    "df['signatures'] = df['signatures'].str.extract(r\"([\\d]+)\", expand=False)"
   ]
  },
  {
   "cell_type": "code",
   "execution_count": 13,
   "id": "48dc2602-ac94-487d-9e13-ab94954b95eb",
   "metadata": {},
   "outputs": [
    {
     "name": "stderr",
     "output_type": "stream",
     "text": [
      "/var/folders/93/ffjltmpn7wb5fs3ksd8vx1xh0000gn/T/ipykernel_1222/3604926228.py:1: SettingWithCopyWarning: \n",
      "A value is trying to be set on a copy of a slice from a DataFrame.\n",
      "Try using .loc[row_indexer,col_indexer] = value instead\n",
      "\n",
      "See the caveats in the documentation: https://pandas.pydata.org/pandas-docs/stable/user_guide/indexing.html#returning-a-view-versus-a-copy\n",
      "  df['signatures'] = df['signatures'].astype('int')\n"
     ]
    }
   ],
   "source": [
    "df['signatures'] = df['signatures'].astype('int')"
   ]
  },
  {
   "cell_type": "code",
   "execution_count": 14,
   "id": "6fc2c46b-c098-40cb-ab49-05072511f835",
   "metadata": {},
   "outputs": [],
   "source": [
    "df_signatures = df[df['signatures'] > 30000]"
   ]
  },
  {
   "cell_type": "code",
   "execution_count": 15,
   "id": "aae9878b-2c6b-49ab-b810-12122374baea",
   "metadata": {},
   "outputs": [
    {
     "name": "stderr",
     "output_type": "stream",
     "text": [
      "/var/folders/93/ffjltmpn7wb5fs3ksd8vx1xh0000gn/T/ipykernel_1222/1140332965.py:1: SettingWithCopyWarning: \n",
      "A value is trying to be set on a copy of a slice from a DataFrame.\n",
      "Try using .loc[row_indexer,col_indexer] = value instead\n",
      "\n",
      "See the caveats in the documentation: https://pandas.pydata.org/pandas-docs/stable/user_guide/indexing.html#returning-a-view-versus-a-copy\n",
      "  df_signatures['place'] = df_signatures['place'].str.replace(\"Deutschland\", \"\")\n"
     ]
    }
   ],
   "source": [
    "df_signatures['place'] = df_signatures['place'].str.replace(\"Deutschland\", \"\")"
   ]
  },
  {
   "cell_type": "code",
   "execution_count": 16,
   "id": "65ff2790-2993-4acb-a745-4d7ae6b18ea0",
   "metadata": {},
   "outputs": [
    {
     "name": "stderr",
     "output_type": "stream",
     "text": [
      "/var/folders/93/ffjltmpn7wb5fs3ksd8vx1xh0000gn/T/ipykernel_1222/2278762231.py:1: SettingWithCopyWarning: \n",
      "A value is trying to be set on a copy of a slice from a DataFrame.\n",
      "Try using .loc[row_indexer,col_indexer] = value instead\n",
      "\n",
      "See the caveats in the documentation: https://pandas.pydata.org/pandas-docs/stable/user_guide/indexing.html#returning-a-view-versus-a-copy\n",
      "  df_signatures['place'] = df_signatures['place'].str.replace(\",\", \"\")\n"
     ]
    }
   ],
   "source": [
    "df_signatures['place'] = df_signatures['place'].str.replace(\",\", \"\")"
   ]
  },
  {
   "cell_type": "code",
   "execution_count": 17,
   "id": "4e058d75-7c85-4d1b-9724-a05010e1ff93",
   "metadata": {},
   "outputs": [
    {
     "data": {
      "text/html": [
       "<div>\n",
       "<style scoped>\n",
       "    .dataframe tbody tr th:only-of-type {\n",
       "        vertical-align: middle;\n",
       "    }\n",
       "\n",
       "    .dataframe tbody tr th {\n",
       "        vertical-align: top;\n",
       "    }\n",
       "\n",
       "    .dataframe thead th {\n",
       "        text-align: right;\n",
       "    }\n",
       "</style>\n",
       "<table border=\"1\" class=\"dataframe\">\n",
       "  <thead>\n",
       "    <tr style=\"text-align: right;\">\n",
       "      <th></th>\n",
       "      <th>title</th>\n",
       "      <th>description</th>\n",
       "      <th>place</th>\n",
       "      <th>signatures</th>\n",
       "      <th>start_date</th>\n",
       "    </tr>\n",
       "  </thead>\n",
       "  <tbody>\n",
       "    <tr>\n",
       "      <th>120</th>\n",
       "      <td>Werkstätten für Menschen mit Behinderung ohne ...</td>\n",
       "      <td>Werkstätten für Menschen mit Behinderung ohne ...</td>\n",
       "      <td></td>\n",
       "      <td>52394</td>\n",
       "      <td>2024</td>\n",
       "    </tr>\n",
       "    <tr>\n",
       "      <th>121</th>\n",
       "      <td>Stoppen Sie die Abschiebung eines gut integrie...</td>\n",
       "      <td>Die Eltern tot? Das eigene Land geprägt von Te...</td>\n",
       "      <td>Hamburg</td>\n",
       "      <td>52379</td>\n",
       "      <td>2018</td>\n",
       "    </tr>\n",
       "    <tr>\n",
       "      <th>122</th>\n",
       "      <td>STOP!!! Das brutale Abschlachten der Delfine i...</td>\n",
       "      <td>\\n \\n\\n \\n\\nGuten Tag alle zusammen,\\nvor kurz...</td>\n",
       "      <td></td>\n",
       "      <td>52273</td>\n",
       "      <td>2023</td>\n",
       "    </tr>\n",
       "    <tr>\n",
       "      <th>123</th>\n",
       "      <td>An die KBV: Erlauben Sie weiterhin unbegrenzt ...</td>\n",
       "      <td>Vorweg, um Missverständnissen vorzubeugen: Ich...</td>\n",
       "      <td></td>\n",
       "      <td>52272</td>\n",
       "      <td>2022</td>\n",
       "    </tr>\n",
       "    <tr>\n",
       "      <th>125</th>\n",
       "      <td>Eltern in der Coronakrise nicht im Stich lasse...</td>\n",
       "      <td>Mein Name ist Katharina Mahrt. Im April letzte...</td>\n",
       "      <td></td>\n",
       "      <td>52076</td>\n",
       "      <td>2020</td>\n",
       "    </tr>\n",
       "    <tr>\n",
       "      <th>...</th>\n",
       "      <td>...</td>\n",
       "      <td>...</td>\n",
       "      <td>...</td>\n",
       "      <td>...</td>\n",
       "      <td>...</td>\n",
       "    </tr>\n",
       "    <tr>\n",
       "      <th>26723</th>\n",
       "      <td>Erlauben Sie Razaq Yar, die Ausbildung zum Alt...</td>\n",
       "      <td>Abschiebung von künftigem Altenpflege(helfe)r ...</td>\n",
       "      <td></td>\n",
       "      <td>32172</td>\n",
       "      <td>2020</td>\n",
       "    </tr>\n",
       "    <tr>\n",
       "      <th>26724</th>\n",
       "      <td>Verhindern Sie die Schließung der Stadtteilbib...</td>\n",
       "      <td>Seit der Geburt meiner ältesten Tochter vor 5 ...</td>\n",
       "      <td></td>\n",
       "      <td>32162</td>\n",
       "      <td>2024</td>\n",
       "    </tr>\n",
       "    <tr>\n",
       "      <th>26725</th>\n",
       "      <td>Gegen das 10. Süddeutsche Mops und Bulldoggenr...</td>\n",
       "      <td>Am 03. und 4. September soll das 10. süddeutsc...</td>\n",
       "      <td></td>\n",
       "      <td>32093</td>\n",
       "      <td>2022</td>\n",
       "    </tr>\n",
       "    <tr>\n",
       "      <th>26726</th>\n",
       "      <td>EU - Stoppt die Menschenrechtsverletzungen in ...</td>\n",
       "      <td>Mit großer Sorge beobachte ich und meine polni...</td>\n",
       "      <td></td>\n",
       "      <td>32066</td>\n",
       "      <td>2020</td>\n",
       "    </tr>\n",
       "    <tr>\n",
       "      <th>26892</th>\n",
       "      <td>Kostenloser Schulweg und kostenlose Nutzung de...</td>\n",
       "      <td>Kostenloser Schulweg und kostenlose Nutzung de...</td>\n",
       "      <td></td>\n",
       "      <td>34198</td>\n",
       "      <td>2024</td>\n",
       "    </tr>\n",
       "  </tbody>\n",
       "</table>\n",
       "<p>837 rows × 5 columns</p>\n",
       "</div>"
      ],
      "text/plain": [
       "                                                   title  \\\n",
       "120    Werkstätten für Menschen mit Behinderung ohne ...   \n",
       "121    Stoppen Sie die Abschiebung eines gut integrie...   \n",
       "122    STOP!!! Das brutale Abschlachten der Delfine i...   \n",
       "123    An die KBV: Erlauben Sie weiterhin unbegrenzt ...   \n",
       "125    Eltern in der Coronakrise nicht im Stich lasse...   \n",
       "...                                                  ...   \n",
       "26723  Erlauben Sie Razaq Yar, die Ausbildung zum Alt...   \n",
       "26724  Verhindern Sie die Schließung der Stadtteilbib...   \n",
       "26725  Gegen das 10. Süddeutsche Mops und Bulldoggenr...   \n",
       "26726  EU - Stoppt die Menschenrechtsverletzungen in ...   \n",
       "26892  Kostenloser Schulweg und kostenlose Nutzung de...   \n",
       "\n",
       "                                             description     place  \\\n",
       "120    Werkstätten für Menschen mit Behinderung ohne ...             \n",
       "121    Die Eltern tot? Das eigene Land geprägt von Te...  Hamburg    \n",
       "122    \\n \\n\\n \\n\\nGuten Tag alle zusammen,\\nvor kurz...             \n",
       "123    Vorweg, um Missverständnissen vorzubeugen: Ich...             \n",
       "125    Mein Name ist Katharina Mahrt. Im April letzte...             \n",
       "...                                                  ...       ...   \n",
       "26723  Abschiebung von künftigem Altenpflege(helfe)r ...             \n",
       "26724  Seit der Geburt meiner ältesten Tochter vor 5 ...             \n",
       "26725  Am 03. und 4. September soll das 10. süddeutsc...             \n",
       "26726  Mit großer Sorge beobachte ich und meine polni...             \n",
       "26892  Kostenloser Schulweg und kostenlose Nutzung de...             \n",
       "\n",
       "       signatures start_date  \n",
       "120         52394       2024  \n",
       "121         52379       2018  \n",
       "122         52273       2023  \n",
       "123         52272       2022  \n",
       "125         52076       2020  \n",
       "...           ...        ...  \n",
       "26723       32172       2020  \n",
       "26724       32162       2024  \n",
       "26725       32093       2022  \n",
       "26726       32066       2020  \n",
       "26892       34198       2024  \n",
       "\n",
       "[837 rows x 5 columns]"
      ]
     },
     "execution_count": 17,
     "metadata": {},
     "output_type": "execute_result"
    }
   ],
   "source": [
    "df_signatures"
   ]
  },
  {
   "cell_type": "markdown",
   "id": "d11c48d5-604d-47d9-a0f0-7194215dc35c",
   "metadata": {},
   "source": [
    "### Analysis General"
   ]
  },
  {
   "cell_type": "code",
   "execution_count": 18,
   "id": "2547e34c-9f37-499f-8f6b-6c92ec79d780",
   "metadata": {},
   "outputs": [
    {
     "data": {
      "text/html": [
       "<div>\n",
       "<style scoped>\n",
       "    .dataframe tbody tr th:only-of-type {\n",
       "        vertical-align: middle;\n",
       "    }\n",
       "\n",
       "    .dataframe tbody tr th {\n",
       "        vertical-align: top;\n",
       "    }\n",
       "\n",
       "    .dataframe thead th {\n",
       "        text-align: right;\n",
       "    }\n",
       "</style>\n",
       "<table border=\"1\" class=\"dataframe\">\n",
       "  <thead>\n",
       "    <tr style=\"text-align: right;\">\n",
       "      <th></th>\n",
       "      <th>start_date</th>\n",
       "      <th>count</th>\n",
       "    </tr>\n",
       "  </thead>\n",
       "  <tbody>\n",
       "    <tr>\n",
       "      <th>6</th>\n",
       "      <td>2018</td>\n",
       "      <td>1275</td>\n",
       "    </tr>\n",
       "    <tr>\n",
       "      <th>5</th>\n",
       "      <td>2019</td>\n",
       "      <td>1554</td>\n",
       "    </tr>\n",
       "    <tr>\n",
       "      <th>4</th>\n",
       "      <td>2020</td>\n",
       "      <td>2583</td>\n",
       "    </tr>\n",
       "    <tr>\n",
       "      <th>3</th>\n",
       "      <td>2021</td>\n",
       "      <td>2865</td>\n",
       "    </tr>\n",
       "    <tr>\n",
       "      <th>2</th>\n",
       "      <td>2022</td>\n",
       "      <td>3850</td>\n",
       "    </tr>\n",
       "    <tr>\n",
       "      <th>1</th>\n",
       "      <td>2023</td>\n",
       "      <td>4093</td>\n",
       "    </tr>\n",
       "    <tr>\n",
       "      <th>0</th>\n",
       "      <td>2024</td>\n",
       "      <td>5592</td>\n",
       "    </tr>\n",
       "  </tbody>\n",
       "</table>\n",
       "</div>"
      ],
      "text/plain": [
       "  start_date  count\n",
       "6       2018   1275\n",
       "5       2019   1554\n",
       "4       2020   2583\n",
       "3       2021   2865\n",
       "2       2022   3850\n",
       "1       2023   4093\n",
       "0       2024   5592"
      ]
     },
     "execution_count": 18,
     "metadata": {},
     "output_type": "execute_result"
    }
   ],
   "source": [
    "# year \n",
    "amount_all = df['start_date'].value_counts().reset_index().sort_values(by='start_date')\n",
    "amount_all"
   ]
  },
  {
   "cell_type": "code",
   "execution_count": 19,
   "id": "2683a9a6-a86b-40e9-9d7c-0692c0b720b9",
   "metadata": {},
   "outputs": [
    {
     "name": "stderr",
     "output_type": "stream",
     "text": [
      "/var/folders/93/ffjltmpn7wb5fs3ksd8vx1xh0000gn/T/ipykernel_1222/2957775505.py:1: UserWarning: This pattern is interpreted as a regular expression, and has match groups. To actually get the groups, use str.extract.\n",
      "  stop = df[df['title'].str.contains(r'(Stop|stop|STOP)', regex=True)]\n",
      "/var/folders/93/ffjltmpn7wb5fs3ksd8vx1xh0000gn/T/ipykernel_1222/2957775505.py:2: UserWarning: This pattern is interpreted as a regular expression, and has match groups. To actually get the groups, use str.extract.\n",
      "  nein = df[df['title'].str.contains(r'(NEIN |nein )', regex=True)]\n",
      "/var/folders/93/ffjltmpn7wb5fs3ksd8vx1xh0000gn/T/ipykernel_1222/2957775505.py:3: UserWarning: This pattern is interpreted as a regular expression, and has match groups. To actually get the groups, use str.extract.\n",
      "  gegen = df[df['title'].str.contains(r'(GEGEN |gegen )', regex=True)]\n",
      "/var/folders/93/ffjltmpn7wb5fs3ksd8vx1xh0000gn/T/ipykernel_1222/2957775505.py:4: UserWarning: This pattern is interpreted as a regular expression, and has match groups. To actually get the groups, use str.extract.\n",
      "  verbieten = df[df['title'].str.contains(r'(verbiete|Verbot|VERBOT|VERBIET)', regex=True)]\n",
      "/var/folders/93/ffjltmpn7wb5fs3ksd8vx1xh0000gn/T/ipykernel_1222/2957775505.py:5: UserWarning: This pattern is interpreted as a regular expression, and has match groups. To actually get the groups, use str.extract.\n",
      "  rette = df[df['title'].str.contains(r'(RETTE|rette)', regex=True)]\n",
      "/var/folders/93/ffjltmpn7wb5fs3ksd8vx1xh0000gn/T/ipykernel_1222/2957775505.py:6: UserWarning: This pattern is interpreted as a regular expression, and has match groups. To actually get the groups, use str.extract.\n",
      "  ja = df[df['title'].str.contains(r'(JA |ja )', regex=True)]\n",
      "/var/folders/93/ffjltmpn7wb5fs3ksd8vx1xh0000gn/T/ipykernel_1222/2957775505.py:7: UserWarning: This pattern is interpreted as a regular expression, and has match groups. To actually get the groups, use str.extract.\n",
      "  für = df[df['title'].str.contains(r'(^Für | für alle| für ALLE)', regex=True)]\n",
      "/var/folders/93/ffjltmpn7wb5fs3ksd8vx1xh0000gn/T/ipykernel_1222/2957775505.py:8: UserWarning: This pattern is interpreted as a regular expression, and has match groups. To actually get the groups, use str.extract.\n",
      "  besser = df[df['title'].str.contains(r'(BESSER|besser)', regex=True)]\n"
     ]
    }
   ],
   "source": [
    "stop = df[df['title'].str.contains(r'(Stop|stop|STOP)', regex=True)]\n",
    "nein = df[df['title'].str.contains(r'(NEIN |nein )', regex=True)]\n",
    "gegen = df[df['title'].str.contains(r'(GEGEN |gegen )', regex=True)]\n",
    "verbieten = df[df['title'].str.contains(r'(verbiete|Verbot|VERBOT|VERBIET)', regex=True)]\n",
    "rette = df[df['title'].str.contains(r'(RETTE|rette)', regex=True)]\n",
    "ja = df[df['title'].str.contains(r'(JA |ja )', regex=True)]\n",
    "für = df[df['title'].str.contains(r'(^Für | für alle| für ALLE)', regex=True)]\n",
    "besser = df[df['title'].str.contains(r'(BESSER|besser)', regex=True)]"
   ]
  },
  {
   "cell_type": "code",
   "execution_count": 182,
   "id": "daac5387-af39-4777-82f3-dd7b09985123",
   "metadata": {},
   "outputs": [
    {
     "data": {
      "text/plain": [
       "1759"
      ]
     },
     "execution_count": 182,
     "metadata": {},
     "output_type": "execute_result"
    }
   ],
   "source": [
    "len(stop)"
   ]
  },
  {
   "cell_type": "code",
   "execution_count": 183,
   "id": "dff301c4-c34b-4779-af05-4f8f3e892558",
   "metadata": {},
   "outputs": [
    {
     "data": {
      "text/plain": [
       "84"
      ]
     },
     "execution_count": 183,
     "metadata": {},
     "output_type": "execute_result"
    }
   ],
   "source": [
    "len(nein)"
   ]
  },
  {
   "cell_type": "code",
   "execution_count": 184,
   "id": "5c7d639b-4b53-41fe-973b-41e1c9b8c07c",
   "metadata": {},
   "outputs": [
    {
     "data": {
      "text/plain": [
       "517"
      ]
     },
     "execution_count": 184,
     "metadata": {},
     "output_type": "execute_result"
    }
   ],
   "source": [
    "len(gegen)"
   ]
  },
  {
   "cell_type": "code",
   "execution_count": 185,
   "id": "63d87d2f-b9bc-401e-8fc2-a5ce1a77c543",
   "metadata": {},
   "outputs": [
    {
     "data": {
      "text/plain": [
       "417"
      ]
     },
     "execution_count": 185,
     "metadata": {},
     "output_type": "execute_result"
    }
   ],
   "source": [
    "len(verbieten)"
   ]
  },
  {
   "cell_type": "code",
   "execution_count": 186,
   "id": "0bbc7b50-3598-4768-829b-ea4f7b09eb80",
   "metadata": {},
   "outputs": [
    {
     "data": {
      "text/plain": [
       "153"
      ]
     },
     "execution_count": 186,
     "metadata": {},
     "output_type": "execute_result"
    }
   ],
   "source": [
    "len(rette)"
   ]
  },
  {
   "cell_type": "code",
   "execution_count": 187,
   "id": "87dcf2aa-00c1-4623-ab4c-11741f4265ec",
   "metadata": {},
   "outputs": [
    {
     "data": {
      "text/plain": [
       "55"
      ]
     },
     "execution_count": 187,
     "metadata": {},
     "output_type": "execute_result"
    }
   ],
   "source": [
    "len(ja)"
   ]
  },
  {
   "cell_type": "code",
   "execution_count": 188,
   "id": "1cf723f7-1194-4130-9526-164b008e73bb",
   "metadata": {},
   "outputs": [
    {
     "data": {
      "text/plain": [
       "745"
      ]
     },
     "execution_count": 188,
     "metadata": {},
     "output_type": "execute_result"
    }
   ],
   "source": [
    "len(für)"
   ]
  },
  {
   "cell_type": "code",
   "execution_count": 189,
   "id": "56080532-13b1-4a10-81c0-fe8519c2cae6",
   "metadata": {},
   "outputs": [
    {
     "data": {
      "text/plain": [
       "233"
      ]
     },
     "execution_count": 189,
     "metadata": {},
     "output_type": "execute_result"
    }
   ],
   "source": [
    "len(besser)"
   ]
  },
  {
   "cell_type": "code",
   "execution_count": 190,
   "id": "d4a53231-e283-4610-b602-19fbf6cdb1b3",
   "metadata": {},
   "outputs": [],
   "source": [
    "df_stop = stop['start_date'].value_counts().reset_index().sort_values(by='start_date')\n",
    "df_nein = nein['start_date'].value_counts().reset_index().sort_values(by='start_date')\n",
    "df_gegen = gegen['start_date'].value_counts().reset_index().sort_values(by='start_date')\n",
    "df_verbieten = verbieten['start_date'].value_counts().reset_index().sort_values(by='start_date')\n",
    "df_rette = rette['start_date'].value_counts().reset_index().sort_values(by='start_date')\n",
    "df_ja = ja['start_date'].value_counts().reset_index().sort_values(by='start_date')\n",
    "df_für = für['start_date'].value_counts().reset_index().sort_values(by='start_date')\n",
    "df_besser = besser['start_date'].value_counts().reset_index().sort_values(by='start_date')"
   ]
  },
  {
   "cell_type": "code",
   "execution_count": 193,
   "id": "e2cb647f-ae11-4004-b376-246fb320691c",
   "metadata": {},
   "outputs": [
    {
     "data": {
      "text/html": [
       "<div>\n",
       "<style scoped>\n",
       "    .dataframe tbody tr th:only-of-type {\n",
       "        vertical-align: middle;\n",
       "    }\n",
       "\n",
       "    .dataframe tbody tr th {\n",
       "        vertical-align: top;\n",
       "    }\n",
       "\n",
       "    .dataframe thead th {\n",
       "        text-align: right;\n",
       "    }\n",
       "</style>\n",
       "<table border=\"1\" class=\"dataframe\">\n",
       "  <thead>\n",
       "    <tr style=\"text-align: right;\">\n",
       "      <th></th>\n",
       "      <th>start_date</th>\n",
       "      <th>count</th>\n",
       "      <th>positiv</th>\n",
       "    </tr>\n",
       "  </thead>\n",
       "  <tbody>\n",
       "    <tr>\n",
       "      <th>5</th>\n",
       "      <td>2018</td>\n",
       "      <td>20</td>\n",
       "      <td>90</td>\n",
       "    </tr>\n",
       "    <tr>\n",
       "      <th>6</th>\n",
       "      <td>2019</td>\n",
       "      <td>15</td>\n",
       "      <td>71</td>\n",
       "    </tr>\n",
       "    <tr>\n",
       "      <th>1</th>\n",
       "      <td>2020</td>\n",
       "      <td>25</td>\n",
       "      <td>211</td>\n",
       "    </tr>\n",
       "    <tr>\n",
       "      <th>0</th>\n",
       "      <td>2021</td>\n",
       "      <td>27</td>\n",
       "      <td>335</td>\n",
       "    </tr>\n",
       "    <tr>\n",
       "      <th>2</th>\n",
       "      <td>2022</td>\n",
       "      <td>24</td>\n",
       "      <td>177</td>\n",
       "    </tr>\n",
       "    <tr>\n",
       "      <th>4</th>\n",
       "      <td>2023</td>\n",
       "      <td>20</td>\n",
       "      <td>140</td>\n",
       "    </tr>\n",
       "    <tr>\n",
       "      <th>3</th>\n",
       "      <td>2024</td>\n",
       "      <td>22</td>\n",
       "      <td>162</td>\n",
       "    </tr>\n",
       "  </tbody>\n",
       "</table>\n",
       "</div>"
      ],
      "text/plain": [
       "  start_date  count  positiv\n",
       "5       2018     20       90\n",
       "6       2019     15       71\n",
       "1       2020     25      211\n",
       "0       2021     27      335\n",
       "2       2022     24      177\n",
       "4       2023     20      140\n",
       "3       2024     22      162"
      ]
     },
     "execution_count": 193,
     "metadata": {},
     "output_type": "execute_result"
    }
   ],
   "source": [
    "df_rette['positiv'] = df_rette['count']+df_ja['count']+df_für['count']+df_besser['count']\n",
    "df_rette"
   ]
  },
  {
   "cell_type": "code",
   "execution_count": 195,
   "id": "1c377223-702f-4842-ba86-00236010b2c5",
   "metadata": {},
   "outputs": [
    {
     "data": {
      "text/html": [
       "<div>\n",
       "<style scoped>\n",
       "    .dataframe tbody tr th:only-of-type {\n",
       "        vertical-align: middle;\n",
       "    }\n",
       "\n",
       "    .dataframe tbody tr th {\n",
       "        vertical-align: top;\n",
       "    }\n",
       "\n",
       "    .dataframe thead th {\n",
       "        text-align: right;\n",
       "    }\n",
       "</style>\n",
       "<table border=\"1\" class=\"dataframe\">\n",
       "  <thead>\n",
       "    <tr style=\"text-align: right;\">\n",
       "      <th></th>\n",
       "      <th>start_date</th>\n",
       "      <th>positiv</th>\n",
       "    </tr>\n",
       "  </thead>\n",
       "  <tbody>\n",
       "    <tr>\n",
       "      <th>5</th>\n",
       "      <td>2018</td>\n",
       "      <td>90</td>\n",
       "    </tr>\n",
       "    <tr>\n",
       "      <th>6</th>\n",
       "      <td>2019</td>\n",
       "      <td>71</td>\n",
       "    </tr>\n",
       "    <tr>\n",
       "      <th>1</th>\n",
       "      <td>2020</td>\n",
       "      <td>211</td>\n",
       "    </tr>\n",
       "    <tr>\n",
       "      <th>0</th>\n",
       "      <td>2021</td>\n",
       "      <td>335</td>\n",
       "    </tr>\n",
       "    <tr>\n",
       "      <th>2</th>\n",
       "      <td>2022</td>\n",
       "      <td>177</td>\n",
       "    </tr>\n",
       "    <tr>\n",
       "      <th>4</th>\n",
       "      <td>2023</td>\n",
       "      <td>140</td>\n",
       "    </tr>\n",
       "    <tr>\n",
       "      <th>3</th>\n",
       "      <td>2024</td>\n",
       "      <td>162</td>\n",
       "    </tr>\n",
       "  </tbody>\n",
       "</table>\n",
       "</div>"
      ],
      "text/plain": [
       "  start_date  positiv\n",
       "5       2018       90\n",
       "6       2019       71\n",
       "1       2020      211\n",
       "0       2021      335\n",
       "2       2022      177\n",
       "4       2023      140\n",
       "3       2024      162"
      ]
     },
     "execution_count": 195,
     "metadata": {},
     "output_type": "execute_result"
    }
   ],
   "source": [
    "df_mood = df_rette.drop(columns=['count'])\n",
    "df_mood"
   ]
  },
  {
   "cell_type": "code",
   "execution_count": 196,
   "id": "e41a87b5-93df-44fd-b545-b867ef457fa1",
   "metadata": {},
   "outputs": [
    {
     "data": {
      "text/html": [
       "<div>\n",
       "<style scoped>\n",
       "    .dataframe tbody tr th:only-of-type {\n",
       "        vertical-align: middle;\n",
       "    }\n",
       "\n",
       "    .dataframe tbody tr th {\n",
       "        vertical-align: top;\n",
       "    }\n",
       "\n",
       "    .dataframe thead th {\n",
       "        text-align: right;\n",
       "    }\n",
       "</style>\n",
       "<table border=\"1\" class=\"dataframe\">\n",
       "  <thead>\n",
       "    <tr style=\"text-align: right;\">\n",
       "      <th></th>\n",
       "      <th>start_date</th>\n",
       "      <th>positiv</th>\n",
       "      <th>negativ</th>\n",
       "    </tr>\n",
       "  </thead>\n",
       "  <tbody>\n",
       "    <tr>\n",
       "      <th>5</th>\n",
       "      <td>2018</td>\n",
       "      <td>90</td>\n",
       "      <td>191</td>\n",
       "    </tr>\n",
       "    <tr>\n",
       "      <th>6</th>\n",
       "      <td>2019</td>\n",
       "      <td>71</td>\n",
       "      <td>158</td>\n",
       "    </tr>\n",
       "    <tr>\n",
       "      <th>1</th>\n",
       "      <td>2020</td>\n",
       "      <td>211</td>\n",
       "      <td>691</td>\n",
       "    </tr>\n",
       "    <tr>\n",
       "      <th>0</th>\n",
       "      <td>2021</td>\n",
       "      <td>335</td>\n",
       "      <td>777</td>\n",
       "    </tr>\n",
       "    <tr>\n",
       "      <th>2</th>\n",
       "      <td>2022</td>\n",
       "      <td>177</td>\n",
       "      <td>414</td>\n",
       "    </tr>\n",
       "    <tr>\n",
       "      <th>4</th>\n",
       "      <td>2023</td>\n",
       "      <td>140</td>\n",
       "      <td>247</td>\n",
       "    </tr>\n",
       "    <tr>\n",
       "      <th>3</th>\n",
       "      <td>2024</td>\n",
       "      <td>162</td>\n",
       "      <td>299</td>\n",
       "    </tr>\n",
       "  </tbody>\n",
       "</table>\n",
       "</div>"
      ],
      "text/plain": [
       "  start_date  positiv  negativ\n",
       "5       2018       90      191\n",
       "6       2019       71      158\n",
       "1       2020      211      691\n",
       "0       2021      335      777\n",
       "2       2022      177      414\n",
       "4       2023      140      247\n",
       "3       2024      162      299"
      ]
     },
     "execution_count": 196,
     "metadata": {},
     "output_type": "execute_result"
    }
   ],
   "source": [
    "df_mood['negativ'] = df_stop['count']+df_nein['count']+df_gegen['count']+df_verbieten['count']\n",
    "df_mood"
   ]
  },
  {
   "cell_type": "markdown",
   "id": "a77104c7-305f-42b7-85b5-05627efdb773",
   "metadata": {},
   "source": [
    "### Analysis filtered"
   ]
  },
  {
   "cell_type": "code",
   "execution_count": 197,
   "id": "c8915aca-9950-4332-b3ea-48ad9ccb05e4",
   "metadata": {},
   "outputs": [
    {
     "data": {
      "text/html": [
       "<div>\n",
       "<style scoped>\n",
       "    .dataframe tbody tr th:only-of-type {\n",
       "        vertical-align: middle;\n",
       "    }\n",
       "\n",
       "    .dataframe tbody tr th {\n",
       "        vertical-align: top;\n",
       "    }\n",
       "\n",
       "    .dataframe thead th {\n",
       "        text-align: right;\n",
       "    }\n",
       "</style>\n",
       "<table border=\"1\" class=\"dataframe\">\n",
       "  <thead>\n",
       "    <tr style=\"text-align: right;\">\n",
       "      <th></th>\n",
       "      <th>start_date</th>\n",
       "      <th>count</th>\n",
       "    </tr>\n",
       "  </thead>\n",
       "  <tbody>\n",
       "    <tr>\n",
       "      <th>6</th>\n",
       "      <td>2018</td>\n",
       "      <td>102</td>\n",
       "    </tr>\n",
       "    <tr>\n",
       "      <th>0</th>\n",
       "      <td>2019</td>\n",
       "      <td>137</td>\n",
       "    </tr>\n",
       "    <tr>\n",
       "      <th>1</th>\n",
       "      <td>2020</td>\n",
       "      <td>134</td>\n",
       "    </tr>\n",
       "    <tr>\n",
       "      <th>3</th>\n",
       "      <td>2021</td>\n",
       "      <td>122</td>\n",
       "    </tr>\n",
       "    <tr>\n",
       "      <th>4</th>\n",
       "      <td>2022</td>\n",
       "      <td>108</td>\n",
       "    </tr>\n",
       "    <tr>\n",
       "      <th>2</th>\n",
       "      <td>2023</td>\n",
       "      <td>131</td>\n",
       "    </tr>\n",
       "    <tr>\n",
       "      <th>5</th>\n",
       "      <td>2024</td>\n",
       "      <td>103</td>\n",
       "    </tr>\n",
       "  </tbody>\n",
       "</table>\n",
       "</div>"
      ],
      "text/plain": [
       "  start_date  count\n",
       "6       2018    102\n",
       "0       2019    137\n",
       "1       2020    134\n",
       "3       2021    122\n",
       "4       2022    108\n",
       "2       2023    131\n",
       "5       2024    103"
      ]
     },
     "execution_count": 197,
     "metadata": {},
     "output_type": "execute_result"
    }
   ],
   "source": [
    "# year and amount signatures \n",
    "amount_sig = df_signatures['start_date'].value_counts().reset_index().sort_values(by='start_date')\n",
    "amount_sig"
   ]
  },
  {
   "cell_type": "code",
   "execution_count": 198,
   "id": "563ce83b-6a6a-42c1-b8ef-38eddea813df",
   "metadata": {},
   "outputs": [
    {
     "data": {
      "text/html": [
       "<div>\n",
       "<style scoped>\n",
       "    .dataframe tbody tr th:only-of-type {\n",
       "        vertical-align: middle;\n",
       "    }\n",
       "\n",
       "    .dataframe tbody tr th {\n",
       "        vertical-align: top;\n",
       "    }\n",
       "\n",
       "    .dataframe thead th {\n",
       "        text-align: right;\n",
       "    }\n",
       "</style>\n",
       "<table border=\"1\" class=\"dataframe\">\n",
       "  <thead>\n",
       "    <tr style=\"text-align: right;\">\n",
       "      <th></th>\n",
       "      <th>start_date</th>\n",
       "      <th>count_all</th>\n",
       "      <th>count_filter</th>\n",
       "    </tr>\n",
       "  </thead>\n",
       "  <tbody>\n",
       "    <tr>\n",
       "      <th>0</th>\n",
       "      <td>2018</td>\n",
       "      <td>1275</td>\n",
       "      <td>102</td>\n",
       "    </tr>\n",
       "    <tr>\n",
       "      <th>1</th>\n",
       "      <td>2019</td>\n",
       "      <td>1554</td>\n",
       "      <td>137</td>\n",
       "    </tr>\n",
       "    <tr>\n",
       "      <th>2</th>\n",
       "      <td>2020</td>\n",
       "      <td>2583</td>\n",
       "      <td>134</td>\n",
       "    </tr>\n",
       "    <tr>\n",
       "      <th>3</th>\n",
       "      <td>2021</td>\n",
       "      <td>2865</td>\n",
       "      <td>122</td>\n",
       "    </tr>\n",
       "    <tr>\n",
       "      <th>4</th>\n",
       "      <td>2022</td>\n",
       "      <td>3850</td>\n",
       "      <td>108</td>\n",
       "    </tr>\n",
       "    <tr>\n",
       "      <th>5</th>\n",
       "      <td>2023</td>\n",
       "      <td>4093</td>\n",
       "      <td>131</td>\n",
       "    </tr>\n",
       "    <tr>\n",
       "      <th>6</th>\n",
       "      <td>2024</td>\n",
       "      <td>5592</td>\n",
       "      <td>103</td>\n",
       "    </tr>\n",
       "  </tbody>\n",
       "</table>\n",
       "</div>"
      ],
      "text/plain": [
       "  start_date  count_all  count_filter\n",
       "0       2018       1275           102\n",
       "1       2019       1554           137\n",
       "2       2020       2583           134\n",
       "3       2021       2865           122\n",
       "4       2022       3850           108\n",
       "5       2023       4093           131\n",
       "6       2024       5592           103"
      ]
     },
     "execution_count": 198,
     "metadata": {},
     "output_type": "execute_result"
    }
   ],
   "source": [
    "amount = pd.merge(amount_all,amount_sig, on=\"start_date\",suffixes=('_all', '_filter'))\n",
    "amount"
   ]
  },
  {
   "cell_type": "code",
   "execution_count": 199,
   "id": "8f7b706c-f479-4a1f-a028-a679e72a760b",
   "metadata": {},
   "outputs": [
    {
     "data": {
      "text/html": [
       "<div>\n",
       "<style scoped>\n",
       "    .dataframe tbody tr th:only-of-type {\n",
       "        vertical-align: middle;\n",
       "    }\n",
       "\n",
       "    .dataframe tbody tr th {\n",
       "        vertical-align: top;\n",
       "    }\n",
       "\n",
       "    .dataframe thead th {\n",
       "        text-align: right;\n",
       "    }\n",
       "</style>\n",
       "<table border=\"1\" class=\"dataframe\">\n",
       "  <thead>\n",
       "    <tr style=\"text-align: right;\">\n",
       "      <th></th>\n",
       "      <th>start_date</th>\n",
       "      <th>count_all</th>\n",
       "      <th>count_filter</th>\n",
       "      <th>percentage</th>\n",
       "    </tr>\n",
       "  </thead>\n",
       "  <tbody>\n",
       "    <tr>\n",
       "      <th>0</th>\n",
       "      <td>2018</td>\n",
       "      <td>1275</td>\n",
       "      <td>102</td>\n",
       "      <td>8.000000</td>\n",
       "    </tr>\n",
       "    <tr>\n",
       "      <th>1</th>\n",
       "      <td>2019</td>\n",
       "      <td>1554</td>\n",
       "      <td>137</td>\n",
       "      <td>8.815959</td>\n",
       "    </tr>\n",
       "    <tr>\n",
       "      <th>2</th>\n",
       "      <td>2020</td>\n",
       "      <td>2583</td>\n",
       "      <td>134</td>\n",
       "      <td>5.187766</td>\n",
       "    </tr>\n",
       "    <tr>\n",
       "      <th>3</th>\n",
       "      <td>2021</td>\n",
       "      <td>2865</td>\n",
       "      <td>122</td>\n",
       "      <td>4.258290</td>\n",
       "    </tr>\n",
       "    <tr>\n",
       "      <th>4</th>\n",
       "      <td>2022</td>\n",
       "      <td>3850</td>\n",
       "      <td>108</td>\n",
       "      <td>2.805195</td>\n",
       "    </tr>\n",
       "    <tr>\n",
       "      <th>5</th>\n",
       "      <td>2023</td>\n",
       "      <td>4093</td>\n",
       "      <td>131</td>\n",
       "      <td>3.200586</td>\n",
       "    </tr>\n",
       "    <tr>\n",
       "      <th>6</th>\n",
       "      <td>2024</td>\n",
       "      <td>5592</td>\n",
       "      <td>103</td>\n",
       "      <td>1.841917</td>\n",
       "    </tr>\n",
       "  </tbody>\n",
       "</table>\n",
       "</div>"
      ],
      "text/plain": [
       "  start_date  count_all  count_filter  percentage\n",
       "0       2018       1275           102    8.000000\n",
       "1       2019       1554           137    8.815959\n",
       "2       2020       2583           134    5.187766\n",
       "3       2021       2865           122    4.258290\n",
       "4       2022       3850           108    2.805195\n",
       "5       2023       4093           131    3.200586\n",
       "6       2024       5592           103    1.841917"
      ]
     },
     "execution_count": 199,
     "metadata": {},
     "output_type": "execute_result"
    }
   ],
   "source": [
    "amount['percentage'] = (amount['count_filter']/amount['count_all'])*100\n",
    "amount"
   ]
  },
  {
   "cell_type": "markdown",
   "id": "c7930826-8e53-4709-bdcd-3fed15fc8f21",
   "metadata": {},
   "source": [
    "### common words analysis - support against vs. for "
   ]
  },
  {
   "cell_type": "code",
   "execution_count": 200,
   "id": "e49d3cd0-7541-4a52-b560-a628b61668a8",
   "metadata": {
    "scrolled": true
   },
   "outputs": [
    {
     "name": "stderr",
     "output_type": "stream",
     "text": [
      "/var/folders/93/ffjltmpn7wb5fs3ksd8vx1xh0000gn/T/ipykernel_15975/2152492701.py:1: UserWarning: This pattern is interpreted as a regular expression, and has match groups. To actually get the groups, use str.extract.\n",
      "  stop_sig = df_signatures[df_signatures['title'].str.contains(r'(Stop|stop|STOP)', regex=True)]\n",
      "/var/folders/93/ffjltmpn7wb5fs3ksd8vx1xh0000gn/T/ipykernel_15975/2152492701.py:2: UserWarning: This pattern is interpreted as a regular expression, and has match groups. To actually get the groups, use str.extract.\n",
      "  nein_sig = df_signatures[df_signatures['title'].str.contains(r'(NEIN |nein )', regex=True)]\n",
      "/var/folders/93/ffjltmpn7wb5fs3ksd8vx1xh0000gn/T/ipykernel_15975/2152492701.py:3: UserWarning: This pattern is interpreted as a regular expression, and has match groups. To actually get the groups, use str.extract.\n",
      "  gegen_sig = df_signatures[df_signatures['title'].str.contains(r'(GEGEN |gegen )', regex=True)]\n",
      "/var/folders/93/ffjltmpn7wb5fs3ksd8vx1xh0000gn/T/ipykernel_15975/2152492701.py:4: UserWarning: This pattern is interpreted as a regular expression, and has match groups. To actually get the groups, use str.extract.\n",
      "  verbieten_sig = df_signatures[df_signatures['title'].str.contains(r'(verbiet|Verbot|VERBOT|VERBIET)', regex=True)]\n",
      "/var/folders/93/ffjltmpn7wb5fs3ksd8vx1xh0000gn/T/ipykernel_15975/2152492701.py:5: UserWarning: This pattern is interpreted as a regular expression, and has match groups. To actually get the groups, use str.extract.\n",
      "  rette_sig = df_signatures[df_signatures['title'].str.contains(r'(RETTE|rette)', regex=True)]\n",
      "/var/folders/93/ffjltmpn7wb5fs3ksd8vx1xh0000gn/T/ipykernel_15975/2152492701.py:6: UserWarning: This pattern is interpreted as a regular expression, and has match groups. To actually get the groups, use str.extract.\n",
      "  ja_sig = df_signatures[df_signatures['title'].str.contains(r'(JA |ja )', regex=True)]\n",
      "/var/folders/93/ffjltmpn7wb5fs3ksd8vx1xh0000gn/T/ipykernel_15975/2152492701.py:7: UserWarning: This pattern is interpreted as a regular expression, and has match groups. To actually get the groups, use str.extract.\n",
      "  für_sig = df_signatures[df_signatures['title'].str.contains(r'(Für | für alle| für ALLE)', regex=True)]\n",
      "/var/folders/93/ffjltmpn7wb5fs3ksd8vx1xh0000gn/T/ipykernel_15975/2152492701.py:8: UserWarning: This pattern is interpreted as a regular expression, and has match groups. To actually get the groups, use str.extract.\n",
      "  besser_sig = df_signatures[df_signatures['title'].str.contains(r'(BESSER|besser)', regex=True)]\n"
     ]
    }
   ],
   "source": [
    "stop_sig = df_signatures[df_signatures['title'].str.contains(r'(Stop|stop|STOP)', regex=True)]\n",
    "nein_sig = df_signatures[df_signatures['title'].str.contains(r'(NEIN |nein )', regex=True)]\n",
    "gegen_sig = df_signatures[df_signatures['title'].str.contains(r'(GEGEN |gegen )', regex=True)]\n",
    "verbieten_sig = df_signatures[df_signatures['title'].str.contains(r'(verbiet|Verbot|VERBOT|VERBIET)', regex=True)]\n",
    "rette_sig = df_signatures[df_signatures['title'].str.contains(r'(RETTE|rette)', regex=True)]\n",
    "ja_sig = df_signatures[df_signatures['title'].str.contains(r'(JA |ja )', regex=True)]\n",
    "für_sig = df_signatures[df_signatures['title'].str.contains(r'(Für | für alle| für ALLE)', regex=True)]\n",
    "besser_sig = df_signatures[df_signatures['title'].str.contains(r'(BESSER|besser)', regex=True)]"
   ]
  },
  {
   "cell_type": "code",
   "execution_count": 201,
   "id": "94c3eb83-5af0-481f-8e17-ac42a0b0f3eb",
   "metadata": {},
   "outputs": [
    {
     "data": {
      "text/plain": [
       "135"
      ]
     },
     "execution_count": 201,
     "metadata": {},
     "output_type": "execute_result"
    }
   ],
   "source": [
    "len(stop_sig)"
   ]
  },
  {
   "cell_type": "code",
   "execution_count": 202,
   "id": "b0d9e821-d328-4a5a-9e37-a6154c0dc236",
   "metadata": {},
   "outputs": [
    {
     "data": {
      "text/plain": [
       "7.674815235929505"
      ]
     },
     "execution_count": 202,
     "metadata": {},
     "output_type": "execute_result"
    }
   ],
   "source": [
    "len(stop_sig)/len(stop)*100"
   ]
  },
  {
   "cell_type": "code",
   "execution_count": 203,
   "id": "e0a3f78e-6c7c-4f00-bc94-4caf7e4db0fb",
   "metadata": {},
   "outputs": [
    {
     "data": {
      "text/plain": [
       "7"
      ]
     },
     "execution_count": 203,
     "metadata": {},
     "output_type": "execute_result"
    }
   ],
   "source": [
    "len(nein_sig)"
   ]
  },
  {
   "cell_type": "code",
   "execution_count": 204,
   "id": "1e603641-ef1f-468d-a97a-d3f5ac5a6b79",
   "metadata": {},
   "outputs": [
    {
     "data": {
      "text/plain": [
       "8.333333333333332"
      ]
     },
     "execution_count": 204,
     "metadata": {},
     "output_type": "execute_result"
    }
   ],
   "source": [
    "len(nein_sig)/len(nein)*100"
   ]
  },
  {
   "cell_type": "code",
   "execution_count": 205,
   "id": "64133b01-9ea5-4b27-ad96-68c7bada0d1c",
   "metadata": {},
   "outputs": [
    {
     "data": {
      "text/plain": [
       "30"
      ]
     },
     "execution_count": 205,
     "metadata": {},
     "output_type": "execute_result"
    }
   ],
   "source": [
    "len(gegen_sig)"
   ]
  },
  {
   "cell_type": "code",
   "execution_count": 206,
   "id": "cd0c6aec-dbc1-44f5-a52b-23fc43be1cf5",
   "metadata": {},
   "outputs": [
    {
     "data": {
      "text/plain": [
       "5.802707930367505"
      ]
     },
     "execution_count": 206,
     "metadata": {},
     "output_type": "execute_result"
    }
   ],
   "source": [
    "len(gegen_sig)/len(gegen)*100"
   ]
  },
  {
   "cell_type": "code",
   "execution_count": 207,
   "id": "9742cc25-a3f7-4efc-a8f1-c5ae9672a504",
   "metadata": {},
   "outputs": [
    {
     "data": {
      "text/plain": [
       "32"
      ]
     },
     "execution_count": 207,
     "metadata": {},
     "output_type": "execute_result"
    }
   ],
   "source": [
    "len(verbieten_sig)"
   ]
  },
  {
   "cell_type": "code",
   "execution_count": 208,
   "id": "9416fe79-670e-4406-bf45-e66c6c113d3c",
   "metadata": {},
   "outputs": [
    {
     "data": {
      "text/plain": [
       "7.673860911270983"
      ]
     },
     "execution_count": 208,
     "metadata": {},
     "output_type": "execute_result"
    }
   ],
   "source": [
    "len(verbieten_sig)/len(verbieten)*100"
   ]
  },
  {
   "cell_type": "code",
   "execution_count": 209,
   "id": "a7aa19ba-8c4b-456f-97b0-3fb96c00bd8c",
   "metadata": {},
   "outputs": [
    {
     "data": {
      "text/plain": [
       "21"
      ]
     },
     "execution_count": 209,
     "metadata": {},
     "output_type": "execute_result"
    }
   ],
   "source": [
    "len(rette_sig)"
   ]
  },
  {
   "cell_type": "code",
   "execution_count": 210,
   "id": "7b1818e1-be52-4fc9-9530-7817e32b9c7a",
   "metadata": {},
   "outputs": [
    {
     "data": {
      "text/plain": [
       "13.725490196078432"
      ]
     },
     "execution_count": 210,
     "metadata": {},
     "output_type": "execute_result"
    }
   ],
   "source": [
    "len(rette_sig)/len(rette)*100"
   ]
  },
  {
   "cell_type": "code",
   "execution_count": 211,
   "id": "d6ed370f-32d3-4b55-95f6-41b7ccc14670",
   "metadata": {},
   "outputs": [
    {
     "data": {
      "text/plain": [
       "2"
      ]
     },
     "execution_count": 211,
     "metadata": {},
     "output_type": "execute_result"
    }
   ],
   "source": [
    "len(ja_sig)"
   ]
  },
  {
   "cell_type": "code",
   "execution_count": 212,
   "id": "1a5cf9fc-cab7-4c47-b25f-c0b94b9194f0",
   "metadata": {},
   "outputs": [
    {
     "data": {
      "text/plain": [
       "3.6363636363636362"
      ]
     },
     "execution_count": 212,
     "metadata": {},
     "output_type": "execute_result"
    }
   ],
   "source": [
    "len(ja_sig)/len(ja)*100"
   ]
  },
  {
   "cell_type": "code",
   "execution_count": 213,
   "id": "09fd0549-cdf6-4756-b638-daae518ed68f",
   "metadata": {},
   "outputs": [
    {
     "data": {
      "text/plain": [
       "46"
      ]
     },
     "execution_count": 213,
     "metadata": {},
     "output_type": "execute_result"
    }
   ],
   "source": [
    "len(für_sig)"
   ]
  },
  {
   "cell_type": "code",
   "execution_count": 214,
   "id": "c7f5da46-ee26-496d-be4d-751b28bf5b73",
   "metadata": {},
   "outputs": [
    {
     "data": {
      "text/plain": [
       "6.174496644295302"
      ]
     },
     "execution_count": 214,
     "metadata": {},
     "output_type": "execute_result"
    }
   ],
   "source": [
    "len(für_sig)/len(für)*100"
   ]
  },
  {
   "cell_type": "code",
   "execution_count": 215,
   "id": "ce35113c-081e-4c3d-bd4a-cd801da4f36f",
   "metadata": {},
   "outputs": [
    {
     "data": {
      "text/plain": [
       "3"
      ]
     },
     "execution_count": 215,
     "metadata": {},
     "output_type": "execute_result"
    }
   ],
   "source": [
    "len(besser_sig)"
   ]
  },
  {
   "cell_type": "code",
   "execution_count": 216,
   "id": "f38a85e2-98bc-4941-b383-9a3cde3407ab",
   "metadata": {},
   "outputs": [
    {
     "data": {
      "text/plain": [
       "1.2875536480686696"
      ]
     },
     "execution_count": 216,
     "metadata": {},
     "output_type": "execute_result"
    }
   ],
   "source": [
    "len(besser_sig)/len(besser)*100"
   ]
  },
  {
   "cell_type": "markdown",
   "id": "e6182085-8fcc-484c-b18e-d85f816355ec",
   "metadata": {},
   "source": [
    "#### Safe results"
   ]
  },
  {
   "cell_type": "code",
   "execution_count": 217,
   "id": "242a148d-4433-4f32-8b62-af959e59f4d0",
   "metadata": {},
   "outputs": [],
   "source": [
    "amount.to_csv('../data-processed/amount.csv')"
   ]
  },
  {
   "cell_type": "code",
   "execution_count": 218,
   "id": "7f4007fb-56c8-4682-a92d-bef584ac332c",
   "metadata": {},
   "outputs": [],
   "source": [
    "df_mood.to_csv('../data-processed/mood.csv')"
   ]
  }
 ],
 "metadata": {
  "kernelspec": {
   "display_name": "Python 3 (ipykernel)",
   "language": "python",
   "name": "python3"
  },
  "language_info": {
   "codemirror_mode": {
    "name": "ipython",
    "version": 3
   },
   "file_extension": ".py",
   "mimetype": "text/x-python",
   "name": "python",
   "nbconvert_exporter": "python",
   "pygments_lexer": "ipython3",
   "version": "3.11.8"
  }
 },
 "nbformat": 4,
 "nbformat_minor": 5
}
